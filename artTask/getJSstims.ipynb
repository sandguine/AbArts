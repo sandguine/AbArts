{
 "cells": [
  {
   "cell_type": "markdown",
   "metadata": {},
   "source": [
    "# Get stimuli ready for jsPsych 'artSurvey.html'\n",
    "#### Author: Sandy Tanwisuth\n",
    "#### Date: March, 29th 2018\n",
    "\n",
    "# Here are some thought-processes behind this code.\n",
    "\n",
    "After we have obtained the artworks, we want to get the stimuli ready for the task. In total, we have four art styles used including: \"Abstract Art\", \"Color Fields Paintings\", \"Cubism\", and \"Impressionism\". The breakdown of artworks per categories are as follows: abstract-214, colorFields-205, cubism-206, and impressionism-205. These artworks were obtained from WikiArt.org search arts by style. When looking at our artSurvey.html, you will see that each trial take around 5 seconds to complete (2 seconds for stimuli presentation, and 3 seconds for response period). We ask two questions per artworks; therby, we need 10 seconds per picture. Since mTurk task should take around 10 minutes aka 600 seconds to complete, we should have around 60 pictures per task. We then divide the task into 14 versions of around 15 pictures per category per task.\n",
    "\n",
    "## 1. Import all required packages."
   ]
  },
  {
   "cell_type": "code",
   "execution_count": 8,
   "metadata": {
    "collapsed": true
   },
   "outputs": [],
   "source": [
    "import glob, os, random, itertools, re, math\n",
    "import numpy as np"
   ]
  },
  {
   "cell_type": "markdown",
   "metadata": {},
   "source": [
    "## 2. Define important functions that will be reuse later on.\n",
    "\n",
    "This block contains two functions define for later usage which are \"getArtsNames\", and \"chunk\" respectively. The first one can be used to obtain an array of all \"*.jpg\" extension file names in the sub-directory input. The second is a function to chunk the artworks array into approximately equals number of pictures."
   ]
  },
  {
   "cell_type": "code",
   "execution_count": 9,
   "metadata": {
    "collapsed": true
   },
   "outputs": [],
   "source": [
    "def getArtsNames(dirName):\n",
    "    cwd = os.getcwd()\n",
    "    os.chdir(dirName)\n",
    "    artsWildCard = os.listdir()\n",
    "    artList = []\n",
    "    for file in glob.glob(\"*.bmp\"):\n",
    "        # print('{stimulus: \\\"img/' + dirName + '/' + file + '\\\"}, \\n')\n",
    "        artList.append(file)\n",
    "    os.chdir(\"..\")\n",
    "    return artList\n",
    "\n",
    "def chunk(seq, num):\n",
    "    avg = math.floor(len(seq) / float(num))\n",
    "    #print(avg)\n",
    "    out = []\n",
    "    last = 0.0\n",
    "    while last < len(seq):\n",
    "        out.append(seq[int(last):int(last + avg - 1)])\n",
    "        #print(out)\n",
    "        #print(len(out))\n",
    "        last += avg\n",
    "        #print(last)\n",
    "    out.append(seq[int(last):int(len(seq)-1)])\n",
    "    #print(last)\n",
    "    return out"
   ]
  },
  {
   "cell_type": "markdown",
   "metadata": {
    "collapsed": true
   },
   "source": [
    "## 3. Define main function to get all artworks.\n",
    "This function get all the artworks and split it into different versions."
   ]
  },
  {
   "cell_type": "code",
   "execution_count": 10,
   "metadata": {
    "collapsed": true
   },
   "outputs": [],
   "source": [
    "numChunks = 5\n",
    "\n",
    "def getStims():\n",
    "    allStims = []\n",
    "    allVersions = [[] for i in range(5)]\n",
    "    allArts = [\"artworks_175\"]\n",
    "    \n",
    "    for artStyle in allArts:\n",
    "        artList = getArtsNames(artStyle)\n",
    "        artList = random.sample(artList, len(artList))\n",
    "        artChunk = chunk(artList, numChunks)\n",
    "        allStims.append(artChunk)\n",
    "        \n",
    "        count = 0\n",
    "        \n",
    "        for version in range(len(allVersions)):\n",
    "            allVersions[version].append(artChunk[version])\n",
    "            #print(count)\n",
    "            count += 1\n",
    "            #print(allVersions)\n",
    "            version += 1\n",
    "        allVersions[version-1].append(artChunk[version-1])\n",
    "        print(allVersions)\n",
    "    \n",
    "    return allVersions"
   ]
  },
  {
   "cell_type": "markdown",
   "metadata": {},
   "source": [
    "# WARNING: DO NOT RE-RUN THIS BLOCK UNLESS NECESSARY!!!\n",
    "## 4. Call main function and write each version to file. \n",
    "The main function is being called to get all artwork in all version. Then, we write each version into JavaScript file."
   ]
  },
  {
   "cell_type": "code",
   "execution_count": 11,
   "metadata": {},
   "outputs": [
    {
     "name": "stdout",
     "output_type": "stream",
     "text": [
      "[[['36VanEyck-Rinaldo.bmp', '10korovin-spring.bmp', '61Monet-The-Water-Lily-Pond.bmp', '103red-plum-painting-water.bmp', '26Seurat-LaGrandeJatte.bmp', '135kahlo.bmp', '03Klimt-TheVirgin.bmp', '79ikenaga yasunari (15).bmp', '41Millet-HarvestersResting.bmp', '34Renoir-LeDejeunerdesCanotiers.bmp', '131landscape.bmp', '109shopping_in_chinatown.bmp', '05Klimt-TheKiss.bmp', '146bridge.bmp', '72Hundertwasser-Blobs-Grow.bmp', '84_7-CV-50.bmp', '47Uccello-StGiorgioAndTheDragon.bmp', '33Renoir-BalduMoulindelaGalett.bmp', '106artoutwest_bear_wildlife_animal_art.bmp', '124dog.bmp', '119daniel_wright__overcast.bmp', '78imari.bmp', '54Claude_Monet.bmp', '87the_dawn.bmp', '91landscape-painting-6.bmp', '134DiegoRivera_DreamCenter.bmp', '138field.bmp', '09Leonardo-thelastsupper.bmp', '29Klee-AdMarginen.bmp', '132flowers.bmp', '175the-family-african.bmp', '122acrylic-painting.bmp', '45Klimt-Melo.bmp', '59lempicka_portrait-in-the-green-bugatti-1925.bmp']], [['16Rubens-AdorationOfTheMagi.bmp', '144woman.bmp', '158appleoil.bmp', '97Animal-Oil-Painting-Art-Painting-On-100-Canvas-AN-10013-A-.bmp', '80il_570xN.bmp', '89timthumb.bmp', '127Raphael.bmp', '68_5174410_happy3lambs.bmp', '65poppiesClaude_Monet_037.bmp', '172piano.bmp', '71Hundertwasser Poster.bmp', '83AFRICAN_RHYTHM_PAINT_XL.bmp', '163garden_fresh_tomato.bmp', '22Rafael-Transfiguration.bmp', '148trees.bmp', '168mustache.bmp', '136ship.bmp', '42toulouse-lautrec-bed.bmp', '32VanEyck-GiovanniArnolfini.bmp', '173chubby.bmp', '67turner-ancient italy ovid banished from rome.bmp', '145banjo.bmp', '44Klimt-JudithI.bmp', '51Dali-TheEnigmaOfDesire.bmp', '140abstract.bmp', '70Vermeer_The_Girl_With_The_Pearl_Earring_(1665).bmp', '107day_eleven.bmp', '01Klimt-Beethovenfries.bmp', '98_009-113.bmp', '129woodblock2.bmp', '40van-gogh-bedroom.bmp', '93Sergey Kustarev.bmp', '157figures.bmp', '39Tansey-TriumphOverMastery.bmp']], [['166abstract.bmp', '128Tsunami_by_hokusai_19th_century.bmp', '114Degas Dancers pastel 1899.bmp', '52brueghel-tower of babel.bmp', '53cezanne-still-life-basket.bmp', '101vermeer_milkmaid.bmp', '117biker_bees_go_home.bmp', '121the_benefits_of_painting_what_you_love.bmp', '113dancer-tilting.bmp', '156houses.bmp', '99dolphin-and-sun-1000.bmp', '125roadster.bmp', '46monet_poplars_epte.bmp', '161andy-warhol-marilyn.bmp', '86original-paintings-two-lovely-australian-terrier.bmp', '165birds_of_a_feather.bmp', '90Landscape_Painting_by_lorienelf.bmp', '116harbor_light_sailboat_pastel_painting.bmp', '77vertical-sunflower-laura-grisham.bmp', '169lighthouse.bmp', '95Cherry_Ripe_1879.bmp', '130woodblock1.bmp', '06Botticelli-AllegoriadellaPrimavera.bmp', '69vanGogh_Starry_Night_Over_the_Rhone.bmp', '171coffee.bmp', '152horses.bmp', '19Rembrandt-MilitaCompany.bmp', '120step_by_step.bmp', '133eyecandy2.bmp', '60marc-the fate of the animals.bmp', '81traditional-thai-paintings-lotus.bmp', '14Dali-softconstructionwithboiledbeans.bmp', '66Schiele - the artists wife.bmp', '31VanGogh-Cypresses.bmp']], [['174boat.bmp', '170abstract.bmp', '142girl.bmp', '75art-nouveau-cat-painting.bmp', '164peaceful_eve.bmp', '92Goyo Dominguez 1960.bmp', '15Boticelli-BirthOfVenus.bmp', '35Chagal-IAndTheVillage.bmp', '105Through-the-Country-Fields-Oil-Painting.bmp', '94-realistic-painting-musician.bmp', '110waiting_on_a_friend4.bmp', '49Schiele-Rainerbub.bmp', '147flowers.bmp', '104Strawberries_oil_painting_by_belka10.bmp', '50Holbein-NikolausKratzer.bmp', '111abstract.bmp', '118watercolor.bmp', '162drawing.bmp', '126picasso-celestine.bmp', '08Dali-MetamorphosedeNarcisse.bmp', '07Monet-nympheas.bmp', '28Monet-theGrainstack.bmp', '18Ernst-LaVilleEntiere.bmp', '43Vermeer-Astronomer.bmp', '155woman.bmp', '141woman.bmp', '30signac-palais-avignon.bmp', '143matisse.bmp', '112three_sheep.bmp', '139book.bmp', '167trees.bmp', '76walker-1.bmp', '21Mucha_salome-1897.bmp', '12VanGogh-StarryNight.bmp']], [['63picasso-dora maar au chat.bmp', '17Greco-Toledo.bmp', '88look-of-Egyption-750x1024.bmp', '100painting-04.bmp', '48monet-soleil.bmp', '24VanGogh-PotatoEaters.bmp', '55duchamp-nude descending a staircase.bmp', '38Eyck-Virgin.bmp', '37Rosseau-CarnivalEvening.bmp', '123Bouquet-iii.bmp', '13Raffaello-SposaliziodellaVergine.bmp', '20guillaumin-ivry_soleil couchant.bmp', '149spots.bmp', '73painting-10.bmp', '62Munch-The_Scream.bmp', '57kandinsky- composition8.bmp', '27seurat-asnieres.bmp', '85_2003_cuban_painting_alberto_4_la_cola.bmp', '82African-Art-Paintings-002.bmp', '150shapes.bmp', '56johns - false start.bmp', '25Seurat-La_Parade_detail.bmp', '23Rousseau-SleepingGypsy.bmp', '74painting-02.bmp', '137girl.bmp', '11manet_lemon.bmp', '160mr-art-deco-2.bmp', '58Klee-fish magic.bmp', '115broadway.bmp', '151guitar.bmp', '159couple.bmp', '64van-gogh-self-portrait.bmp', '102Misty_alley_Leonidafremov.bmp', '96abstract-flower-botanical-watercolor-painting-print-svetlana-novikova.bmp'], ['63picasso-dora maar au chat.bmp', '17Greco-Toledo.bmp', '88look-of-Egyption-750x1024.bmp', '100painting-04.bmp', '48monet-soleil.bmp', '24VanGogh-PotatoEaters.bmp', '55duchamp-nude descending a staircase.bmp', '38Eyck-Virgin.bmp', '37Rosseau-CarnivalEvening.bmp', '123Bouquet-iii.bmp', '13Raffaello-SposaliziodellaVergine.bmp', '20guillaumin-ivry_soleil couchant.bmp', '149spots.bmp', '73painting-10.bmp', '62Munch-The_Scream.bmp', '57kandinsky- composition8.bmp', '27seurat-asnieres.bmp', '85_2003_cuban_painting_alberto_4_la_cola.bmp', '82African-Art-Paintings-002.bmp', '150shapes.bmp', '56johns - false start.bmp', '25Seurat-La_Parade_detail.bmp', '23Rousseau-SleepingGypsy.bmp', '74painting-02.bmp', '137girl.bmp', '11manet_lemon.bmp', '160mr-art-deco-2.bmp', '58Klee-fish magic.bmp', '115broadway.bmp', '151guitar.bmp', '159couple.bmp', '64van-gogh-self-portrait.bmp', '102Misty_alley_Leonidafremov.bmp', '96abstract-flower-botanical-watercolor-painting-print-svetlana-novikova.bmp']]]\n",
      "0\n",
      "1\n",
      "2\n",
      "3\n",
      "4\n"
     ]
    }
   ],
   "source": [
    "allArtsAllVer = getStims()\n",
    "beginStr = ' \\'|\\[\\''\n",
    "endStr = '\\',|\\']'\n",
    "endReplace = '\\\"}, '\n",
    "\n",
    "\n",
    "\n",
    "for eachVersion in range(len(allArtsAllVer)):\n",
    "    print(eachVersion)\n",
    "    abstractStr = str(allArtsAllVer[eachVersion][0])\n",
    "    abstractStr = re.sub(beginStr, '{stimulus: \\\"img/artworks_175/', abstractStr)\n",
    "    abstractStr = re.sub(endStr, endReplace, abstractStr)\n",
    "    #print(abstractStr)\n",
    "        \n",
    "    toWrite = 'test_stimuli = [' + abstractStr \n",
    "    toWrite = toWrite[:-2]\n",
    "    toWrite = toWrite + ']'\n",
    "    \n",
    "    numVersion = eachVersion + 1\n",
    "    numStr = str(numVersion)\n",
    "    file = open(\"v\" + numStr + \".js\", \"w\")\n",
    "    file.write(toWrite)\n",
    "    file.close"
   ]
  },
  {
   "cell_type": "code",
   "execution_count": 17,
   "metadata": {},
   "outputs": [
    {
     "data": {
      "text/plain": [
       "<function TextIOWrapper.close()>"
      ]
     },
     "execution_count": 17,
     "metadata": {},
     "output_type": "execute_result"
    }
   ],
   "source": [
    "beginStr = ' \\'|\\[\\''\n",
    "endStr = '\\',|\\']'\n",
    "endReplace = '\\\"}, '\n",
    "\n",
    "abstractStr = str(allArtsAllVer[4][0])\n",
    "abstractStr = re.sub(beginStr, '{stimulus: \\\"img/artworks_175/', abstractStr)\n",
    "abstractStr = re.sub(endStr, endReplace, abstractStr)\n",
    "#print(abstractStr)\n",
    "\n",
    "toWrite = 'test_stimuli = [' + abstractStr \n",
    "toWrite = toWrite[:-2]\n",
    "toWrite = toWrite + ']'\n",
    "\n",
    "numVersion = 4 + 1\n",
    "numStr = str(numVersion)\n",
    "file = open(\"v\" + numStr + \".js\", \"w\")\n",
    "file.write(toWrite)\n",
    "file.close\n"
   ]
  },
  {
   "cell_type": "markdown",
   "metadata": {},
   "source": [
    "## 5. Voíla!"
   ]
  }
 ],
 "metadata": {
  "kernelspec": {
   "display_name": "Python 3",
   "language": "python",
   "name": "python3"
  },
  "language_info": {
   "codemirror_mode": {
    "name": "ipython",
    "version": 3
   },
   "file_extension": ".py",
   "mimetype": "text/x-python",
   "name": "python",
   "nbconvert_exporter": "python",
   "pygments_lexer": "ipython3",
   "version": "3.6.5"
  }
 },
 "nbformat": 4,
 "nbformat_minor": 2
}
