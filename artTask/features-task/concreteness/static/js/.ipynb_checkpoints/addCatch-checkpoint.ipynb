{
 "cells": [
  {
   "cell_type": "markdown",
   "metadata": {},
   "source": [
    "## Add catch trials to the real task"
   ]
  },
  {
   "cell_type": "code",
   "execution_count": 1,
   "metadata": {
    "collapsed": true
   },
   "outputs": [],
   "source": [
    "import glob, os, random, itertools, re\n",
    "import numpy as np"
   ]
  },
  {
   "cell_type": "code",
   "execution_count": 23,
   "metadata": {},
   "outputs": [],
   "source": [
    "def read():\n",
    "    cwd = os.getcwd()\n",
    "    fileList = []\n",
    "    for file in glob.glob(\"[cv]*.js\"):\n",
    "        file = open(str(file), \"r\") \n",
    "        # print('{stimulus: \\\"img/' + dirName + '/' + file + '\\\"}, \\n')\n",
    "        fileList.append(file)\n",
    "    return fileList"
   ]
  },
  {
   "cell_type": "code",
   "execution_count": 29,
   "metadata": {},
   "outputs": [
    {
     "name": "stdout",
     "output_type": "stream",
     "text": [
      "['v4.js', 'v10.js', 'v1.js', 'v5.js', 'v11.js', 'v2.js', 'v6.js', 'v12.js', 'v7.js', 'v13.js', 'v3.js', 'v8.js', 'catchTrials.js', 'v9.js']\n"
     ]
    }
   ],
   "source": [
    "file  = glob.glob(\"[cv]*.js\")\n",
    "print(file)"
   ]
  },
  {
   "cell_type": "code",
   "execution_count": 26,
   "metadata": {},
   "outputs": [
    {
     "name": "stdout",
     "output_type": "stream",
     "text": [
      "test_stimuli = [{stimulus: \"static/js/img/abstract/armonie-di-forme-contrarie-1935.jpg!PinterestLarge.jpg\"}, {stimulus: \"static/js/img/abstract/pera-1986.jpg!PinterestLarge.jpg\"}, {stimulus: \"static/js/img/abstract/rebuilding-the-tower-2009.jpg!PinterestLarge.jpg\"}, {stimulus: \"static/js/img/abstract/painterly-architectonic.jpg!PinterestLarge.jpg\"}, {stimulus: \"static/js/img/abstract/not_detected_189367.jpg!PinterestLarge.jpg\"}, {stimulus: \"static/js/img/abstract/pasture-1958.jpg!PinterestLarge.jpg\"}, {stimulus: \"static/js/img/abstract/composizione-in-azzurro-1965.jpg!PinterestLarge.jpg\"}, {stimulus: \"static/js/img/abstract/duo-duel-1953.jpg!PinterestLarge.jpg\"}, {stimulus: \"static/js/img/abstract/dedicated-to-jacques-callot-1941.jpg!PinterestLarge.jpg\"}, {stimulus: \"static/js/img/abstract/brushstrokes-1968(1).jpg!PinterestLarge.jpg\"}, {stimulus: \"static/js/img/abstract/topological-contortion-of-a-female-figure-becoming-a-violoncello.jpg!PinterestLarge.jpg\"}, {stimulus: \"static/js/img/abstract/study-for-space-1966.jpg!PinterestLarge.jpg\"}, {stimulus: \"static/js/img/abstract/lines-1922.jpg!PinterestLarge.jpg\"}, {stimulus: \"static/js/img/abstract/construction-with-belltower-1932.jpg!PinterestLarge.jpg\"}, {stimulus: \"static/js/img/abstract/invention-composition-31-1933.jpg!PinterestLarge.jpg\"}, {stimulus: \"static/js/img/colorFields/green-painting-2006.jpg!PinterestLarge.jpg\"}, {stimulus: \"static/js/img/colorFields/foley-1967.jpg!PinterestLarge.jpg\"}, {stimulus: \"static/js/img/colorFields/yellow-painting-14-1995.jpg!PinterestLarge.jpg\"}, {stimulus: \"static/js/img/colorFields/untitled-brown-violet-2001.jpg!PinterestLarge.jpg\"}, {stimulus: \"static/js/img/colorFields/winter-1999.jpg!PinterestLarge.jpg\"}, {stimulus: \"static/js/img/colorFields/untitled-156-1971.jpg!PinterestLarge.jpg\"}, {stimulus: \"static/js/img/colorFields/untitled-in-5-parts-1987.jpg!PinterestLarge.jpg\"}, {stimulus: \"static/js/img/colorFields/untitled-1959.jpg!PinterestLarge(5).jpg\"}, {stimulus: \"static/js/img/colorFields/yellow-abstract-1961.jpg!PinterestLarge.jpg\"}, {stimulus: \"static/js/img/colorFields/amarillo-1971.jpg!PinterestLarge.jpg\"}, {stimulus: \"static/js/img/colorFields/mohawk-1970.jpg!PinterestLarge.jpg\"}, {stimulus: \"static/js/img/colorFields/e-226-1955.jpg!PinterestLarge.jpg\"}, {stimulus: \"static/js/img/colorFields/square-motif-in-white-and-indian-red-1960.jpg!PinterestLarge.jpg\"}, {stimulus: \"static/js/img/colorFields/no-24.jpg!PinterestLarge.jpg\"}, {stimulus: \"static/js/img/colorFields/red-with-white-triangle-1961.jpg!PinterestLarge.jpg\"}, {stimulus: \"static/js/img/cubism/abstract-composition-figures-in-a-landscape-1930.jpg!PinterestLarge.jpg\"}, {stimulus: \"static/js/img/cubism/soir-e-d-octobre-1946.jpg!PinterestLarge.jpg\"}, {stimulus: \"static/js/img/cubism/the-trapeze-artists-1922.jpg!PinterestLarge.jpg\"}, {stimulus: \"static/js/img/cubism/aviator.jpg!PinterestLarge.jpg\"}, {stimulus: \"static/js/img/cubism/milliners-workshop-of-the-milliner-1926.jpg!PinterestLarge.jpg\"}, {stimulus: \"static/js/img/cubism/etude-pour-sculpture-1944.jpg!PinterestLarge.jpg\"}, {stimulus: \"static/js/img/cubism/pillars-of-salt.jpg!PinterestLarge.jpg\"}, {stimulus: \"static/js/img/cubism/trouville-1911.jpg!PinterestLarge.jpg\"}, {stimulus: \"static/js/img/cubism/bouteille-et-livre-rose-1926.jpg!PinterestLarge.jpg\"}, {stimulus: \"static/js/img/cubism/three-women-1908.jpg!PinterestLarge.jpg\"}, {stimulus: \"static/js/img/cubism/self-portrait-with-yellow-hat-1965-janos-kmetty-oil-painting-1.jpg!PinterestLarge.jpg\"}, {stimulus: \"static/js/img/cubism/composition-ii-still-life-1916.jpg!PinterestLarge.jpg\"}, {stimulus: \"static/js/img/cubism/taboo-1963(1).jpg!PinterestLarge.jpg\"}, {stimulus: \"static/js/img/cubism/la-femme-au-gu-ridon-et-au-fer-cheval-1928.jpg!PinterestLarge.jpg\"}, {stimulus: \"static/js/img/cubism/still-life-with-ephemeris-1914.jpg!PinterestLarge.jpg\"}, {stimulus: \"static/js/img/impressionism/in-the-hills-southwest-texas-1912.jpg!PinterestLarge.jpg\"}, {stimulus: \"static/js/img/impressionism/etaples-la-canache-low-tide-1890.jpg!PinterestLarge.jpg\"}, {stimulus: \"static/js/img/impressionism/grove-of-olive-trees-in-bordighera.jpg!PinterestLarge.jpg\"}, {stimulus: \"static/js/img/impressionism/dancers-in-light-blue-rehearsing-in-the-dance-studio.jpg!PinterestLarge.jpg\"}, {stimulus: \"static/js/img/impressionism/a-misty-morning.jpg!PinterestLarge.jpg\"}, {stimulus: \"static/js/img/impressionism/a-youngster-in-the-forest.jpg!PinterestLarge.jpg\"}, {stimulus: \"static/js/img/impressionism/the-pont-neuf-1902.jpg!PinterestLarge.jpg\"}, {stimulus: \"static/js/img/impressionism/children-by-the-sea-in-guernsey-1883.jpg!PinterestLarge.jpg\"}, {stimulus: \"static/js/img/impressionism/farmer-to-work-1883.jpg!PinterestLarge.jpg\"}, {stimulus: \"static/js/img/impressionism/flood-at-giverny-1897.jpg!PinterestLarge.jpg\"}, {stimulus: \"static/js/img/impressionism/still-life-with-flowers-skull-and-oak-leaves-1915.jpg!PinterestLarge.jpg\"}, {stimulus: \"static/js/img/impressionism/strand-in-trouville-1863.jpg!PinterestLarge.jpg\"}, {stimulus: \"static/js/img/impressionism/tree-in-the-farm-yard-1874.jpg!PinterestLarge.jpg\"}, {stimulus: \"static/js/img/impressionism/flowers-in-a-vase.jpg!PinterestLarge(1).jpg\"}, {stimulus: \"static/js/img/impressionism/havana.jpg!PinterestLarge.jpg\"}]\n",
      "\n"
     ]
    }
   ],
   "source": [
    "allFiles = read() #sarray of all files\n",
    "print(allFiles[0].read())"
   ]
  },
  {
   "cell_type": "code",
   "execution_count": null,
   "metadata": {
    "collapsed": true
   },
   "outputs": [],
   "source": []
  }
 ],
 "metadata": {
  "kernelspec": {
   "display_name": "Python 3",
   "language": "python",
   "name": "python3"
  },
  "language_info": {
   "codemirror_mode": {
    "name": "ipython",
    "version": 3
   },
   "file_extension": ".py",
   "mimetype": "text/x-python",
   "name": "python",
   "nbconvert_exporter": "python",
   "pygments_lexer": "ipython3",
   "version": "3.6.5"
  }
 },
 "nbformat": 4,
 "nbformat_minor": 2
}
