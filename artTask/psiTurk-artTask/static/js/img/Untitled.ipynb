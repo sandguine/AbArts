{
 "cells": [
  {
   "cell_type": "code",
   "execution_count": 4,
   "metadata": {
    "collapsed": true
   },
   "outputs": [],
   "source": [
    "import glob, os, random, itertools, re\n",
    "import numpy as np"
   ]
  },
  {
   "cell_type": "code",
   "execution_count": 5,
   "metadata": {
    "collapsed": true
   },
   "outputs": [],
   "source": [
    "def getArtsNames(dirName):\n",
    "    cwd = os.getcwd()\n",
    "    os.chdir(dirName)\n",
    "    artsWildCard = os.listdir()\n",
    "    artList = []\n",
    "    for file in glob.glob(\"*.jpg\"):\n",
    "        # print('{stimulus: \\\"img/' + dirName + '/' + file + '\\\"}, \\n')\n",
    "        artList.append(file)\n",
    "    os.chdir(\"..\")\n",
    "    return artList"
   ]
  },
  {
   "cell_type": "code",
   "execution_count": 6,
   "metadata": {},
   "outputs": [
    {
     "name": "stdout",
     "output_type": "stream",
     "text": [
      "['girl-with-a-pearl-earring-johannes-painting.jpg', 'Starry-Night-by-Vincent-Van-Gogh-painting.jpg', 'the-last-supper-mary-magdalene-painting.jpg', 'a-friend-in-need-painting.jpg', 'A-Sunday-Afternoon-on-the-Island-of-La-Grande-Jatte-painting2.jpg', 'The-Birth-of-Venus-Painting.jpg', 'landscape-with-the-fall-of-icarus-pieter-bruegel2.jpg', 'Portrait-de-LArtiste-Sans-Barbe-van-gogh-painting.jpg', 'the-kiss-gustav-klimt-painting.jpg', 'Portrait-of-Dora-Maar-pablo-picaso.jpg', 'The-Persistence-of-Memory-salvador-deli-painting.jpg', 'the-son-of-a-man-painting.jpg', 'Whistlers-Mother-james-mcneill-whistler-painting.jpg', 'A-Bachelors-Dog-painting.jpg', 'Composition-8-kandinsky-painting.jpg', 'the-bold-bluff.jpg', 'las-meninas-de-diego-velazquez-painting.jpg', 'Portrait-of-Madame-Recamier.jpg', 'Guernica-by-Picasso-painting.jpg', 'night-watch-rembrandt-wallpaper.jpg', 'la-moulin-de-la-galette-renoir-painting.jpg', 'Cafe-Terrace-at-Night-van-gogh-painting.jpg', 'Water-lilies-by-Claude-Monet.jpg', 'mona-lisa-leonardo-da-vinci-most-famous-painting.jpg', 'The-Flower-Carrier-diego-rivera-painting.jpg', 'school-of-athens-raphael-painting.jpg', 'American-Gothic-grant-wood-painting.jpg', 'the-scream-edvard-munch-poster.jpg']\n"
     ]
    }
   ],
   "source": [
    "artStyle = \"catch\"\n",
    "artList = getArtsNames(artStyle)\n",
    "print(artList)"
   ]
  },
  {
   "cell_type": "code",
   "execution_count": 12,
   "metadata": {},
   "outputs": [
    {
     "name": "stdout",
     "output_type": "stream",
     "text": [
      "catchies = [{catchy: \"img/catch/girl-with-a-pearl-earring-johannes-painting.jpg\"}, {catchy: \"img/catch/Starry-Night-by-Vincent-Van-Gogh-painting.jpg\"}, {catchy: \"img/catch/the-last-supper-mary-magdalene-painting.jpg\"}, {catchy: \"img/catch/a-friend-in-need-painting.jpg\"}, {catchy: \"img/catch/A-Sunday-Afternoon-on-the-Island-of-La-Grande-Jatte-painting2.jpg\"}, {catchy: \"img/catch/The-Birth-of-Venus-Painting.jpg\"}, {catchy: \"img/catch/landscape-with-the-fall-of-icarus-pieter-bruegel2.jpg\"}, {catchy: \"img/catch/Portrait-de-LArtiste-Sans-Barbe-van-gogh-painting.jpg\"}, {catchy: \"img/catch/the-kiss-gustav-klimt-painting.jpg\"}, {catchy: \"img/catch/Portrait-of-Dora-Maar-pablo-picaso.jpg\"}, {catchy: \"img/catch/The-Persistence-of-Memory-salvador-deli-painting.jpg\"}, {catchy: \"img/catch/the-son-of-a-man-painting.jpg\"}, {catchy: \"img/catch/Whistlers-Mother-james-mcneill-whistler-painting.jpg\"}, {catchy: \"img/catch/A-Bachelors-Dog-painting.jpg\"}, {catchy: \"img/catch/Composition-8-kandinsky-painting.jpg\"}, {catchy: \"img/catch/the-bold-bluff.jpg\"}, {catchy: \"img/catch/las-meninas-de-diego-velazquez-painting.jpg\"}, {catchy: \"img/catch/Portrait-of-Madame-Recamier.jpg\"}, {catchy: \"img/catch/Guernica-by-Picasso-painting.jpg\"}, {catchy: \"img/catch/night-watch-rembrandt-wallpaper.jpg\"}, {catchy: \"img/catch/la-moulin-de-la-galette-renoir-painting.jpg\"}, {catchy: \"img/catch/Cafe-Terrace-at-Night-van-gogh-painting.jpg\"}, {catchy: \"img/catch/Water-lilies-by-Claude-Monet.jpg\"}, {catchy: \"img/catch/mona-lisa-leonardo-da-vinci-most-famous-painting.jpg\"}, {catchy: \"img/catch/The-Flower-Carrier-diego-rivera-painting.jpg\"}, {catchy: \"img/catch/school-of-athens-raphael-painting.jpg\"}, {catchy: \"img/catch/American-Gothic-grant-wood-painting.jpg\"}, {catchy: \"img/catch/the-scream-edvard-munch-poster.jpg\"}]\n"
     ]
    },
    {
     "data": {
      "text/plain": [
       "<function TextIOWrapper.close>"
      ]
     },
     "execution_count": 12,
     "metadata": {},
     "output_type": "execute_result"
    }
   ],
   "source": [
    "beginStr = ' \\'|\\[\\''\n",
    "endStr = '\\',|\\']'\n",
    "endReplace = '\\\"}, '\n",
    "\n",
    "catchStr = str(artList)\n",
    "catchStr = re.sub(beginStr, '{catchy: \\\"img/catch/', catchStr)\n",
    "catchStr = re.sub(endStr, endReplace, catchStr)\n",
    "\n",
    "toWrite = 'catchies = [' + catchStr\n",
    "toWrite = toWrite[:-2]\n",
    "toWrite = toWrite + ']'\n",
    "print(toWrite)\n",
    "\n",
    "file = open(\"catch\" + \".js\", \"w\")\n",
    "file.write(toWrite)\n",
    "file.close"
   ]
  },
  {
   "cell_type": "code",
   "execution_count": null,
   "metadata": {
    "collapsed": true
   },
   "outputs": [],
   "source": []
  }
 ],
 "metadata": {
  "kernelspec": {
   "display_name": "Python 3",
   "language": "python",
   "name": "python3"
  },
  "language_info": {
   "codemirror_mode": {
    "name": "ipython",
    "version": 3
   },
   "file_extension": ".py",
   "mimetype": "text/x-python",
   "name": "python",
   "nbconvert_exporter": "python",
   "pygments_lexer": "ipython3",
   "version": "3.6.2"
  }
 },
 "nbformat": 4,
 "nbformat_minor": 2
}
