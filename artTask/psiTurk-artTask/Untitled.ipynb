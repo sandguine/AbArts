{
 "cells": [
  {
   "cell_type": "code",
   "execution_count": 8,
   "metadata": {
    "collapsed": true
   },
   "outputs": [],
   "source": [
    "import glob, os, datetime, sys\n",
    "from shutil import copyfile"
   ]
  },
  {
   "cell_type": "code",
   "execution_count": 17,
   "metadata": {},
   "outputs": [
    {
     "name": "stdout",
     "output_type": "stream",
     "text": [
      "/Users/sandy/Dropbox/Caltech/AbArts/artTask/psiTurk-artTask\n",
      "['questiondata.csv', 'trialdata.csv', 'eventdata.csv']\n",
      "2018-04-24\n",
      "/Users/sandy/Dropbox/Caltech/AbArts/artTask/psiTurk-artTask\n"
     ]
    }
   ],
   "source": [
    "file  = glob.glob(\"*.csv\")\n",
    "date = datetime.datetime.today().strftime('%Y-%m-%d')\n",
    "#os.rename(src, dst)\n",
    "cwd = os.getcwd()\n",
    "dataFolder = '/Users/sandy/Dropbox/Caltech/AbArts/artTask/data'\n",
    "#copyfile(file, dataFolder)\n",
    "\n",
    "\n",
    "print cwd\n",
    "print file\n",
    "print date\n",
    "\n",
    "#os.chdir('/Users/sandy/Dropbox/Caltech/AbArts/artTask/data')\n",
    "cwd = os.getcwd()\n",
    "print cwd\n"
   ]
  },
  {
   "cell_type": "code",
   "execution_count": 15,
   "metadata": {
    "collapsed": true
   },
   "outputs": [],
   "source": []
  },
  {
   "cell_type": "code",
   "execution_count": null,
   "metadata": {
    "collapsed": true
   },
   "outputs": [],
   "source": []
  }
 ],
 "metadata": {
  "kernelspec": {
   "display_name": "Python 2",
   "language": "python",
   "name": "python2"
  },
  "language_info": {
   "codemirror_mode": {
    "name": "ipython",
    "version": 2
   },
   "file_extension": ".py",
   "mimetype": "text/x-python",
   "name": "python",
   "nbconvert_exporter": "python",
   "pygments_lexer": "ipython2",
   "version": "2.7.14"
  }
 },
 "nbformat": 4,
 "nbformat_minor": 2
}
