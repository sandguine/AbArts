{
 "cells": [
  {
   "cell_type": "markdown",
   "metadata": {},
   "source": [
    "# Get stimuli ready for jsPsych 'artSurvey.html'\n",
    "#### Author: Sandy Tanwisuth\n",
    "#### Date: March, 29th 2018\n",
    "\n",
    "# Here are some thought-processes behind this code.\n",
    "\n",
    "After we have obtained the artworks, we want to get the stimuli ready for the task. In total, we have four art styles used including: \"Abstract Art\", \"Color Fields Paintings\", \"Cubism\", and \"Impressionism\". The breakdown of artworks per categories are as follows: abstract-214, colorFields-205, cubism-206, and impressionism-205. These artworks were obtained from WikiArt.org search arts by style. When looking at our artSurvey.html, you will see that each trial take around 5 seconds to complete (2 seconds for stimuli presentation, and 3 seconds for response period). We ask two questions per artworks; therby, we need 10 seconds per picture. Since mTurk task should take around 10 minutes aka 600 seconds to complete, we should have around 60 pictures per task. We then divide the task into 14 versions of around 15 pictures per category per task.\n",
    "\n",
    "## 1. Import all required packages."
   ]
  },
  {
   "cell_type": "code",
   "execution_count": 62,
   "metadata": {
    "collapsed": true
   },
   "outputs": [],
   "source": [
    "import glob, os, random, itertools"
   ]
  },
  {
   "cell_type": "markdown",
   "metadata": {},
   "source": [
    "## 2. Define important functions that will be reuse later on.\n",
    "\n",
    "This block contains two functions define for later usage which are \"getArtsNames\", and \"chunk\" respectively. The first one can be used to obtain an array of all \"*.jpg\" extension file names in the sub-directory input. The second is a function to chunk the artworks array into approximately equals number of pictures."
   ]
  },
  {
   "cell_type": "code",
   "execution_count": 45,
   "metadata": {
    "collapsed": true
   },
   "outputs": [],
   "source": [
    "def getArtsNames(dirName):\n",
    "    cwd = os.getcwd()\n",
    "    os.chdir(dirName)\n",
    "    artsWildCard = os.listdir()\n",
    "    artList = []\n",
    "    for file in glob.glob(\"*.jpg\"):\n",
    "        # print('{stimulus: \\\"img/' + dirName + '/' + file + '\\\"}, \\n')\n",
    "        artList.append(file)\n",
    "    os.chdir(\"..\")\n",
    "    return artList\n",
    "\n",
    "def chunk(seq, num):\n",
    "    avg = len(seq) / float(num)\n",
    "    out = []\n",
    "    last = 0.0\n",
    "    while last < len(seq):\n",
    "        out.append(seq[int(last):int(last + avg)])\n",
    "        last += avg\n",
    "    return out"
   ]
  },
  {
   "cell_type": "markdown",
   "metadata": {
    "collapsed": true
   },
   "source": [
    "## 3. Define main function."
   ]
  },
  {
   "cell_type": "code",
   "execution_count": 70,
   "metadata": {},
   "outputs": [],
   "source": [
    "numChunks = 14\n",
    "\n",
    "def getStims():\n",
    "    allStims = []\n",
    "    allVersions = [[] for i in range(14)]\n",
    "    allArts = [\"abstract\", \"colorFields\", \"cubism\", \"impressionism\"]\n",
    "    \n",
    "    for artStyle in allArts:\n",
    "        artList = getArtsNames(artStyle)\n",
    "        artList = random.sample(artList, len(artList))\n",
    "        artChunk = chunk(artList, numChunks)\n",
    "        \n",
    "        #for version in traverse(allVersions):\n",
    "        #    for v in version:\n",
    "        #       v.append(artChunk[version])\n",
    "        \n",
    "        #for version in itertools.chain.from_iterable(allVersions):\n",
    "        #   allVersion[version].append(artChunk[version])\n",
    "        \n",
    "    \n",
    "    return len(artChunk)"
   ]
  },
  {
   "cell_type": "code",
   "execution_count": 71,
   "metadata": {},
   "outputs": [
    {
     "data": {
      "text/plain": [
       "14"
      ]
     },
     "execution_count": 71,
     "metadata": {},
     "output_type": "execute_result"
    }
   ],
   "source": [
    "artChunk = getStims()\n",
    "artChunk"
   ]
  },
  {
   "cell_type": "code",
   "execution_count": null,
   "metadata": {
    "collapsed": true
   },
   "outputs": [],
   "source": []
  }
 ],
 "metadata": {
  "kernelspec": {
   "display_name": "Python 3",
   "language": "python",
   "name": "python3"
  },
  "language_info": {
   "codemirror_mode": {
    "name": "ipython",
    "version": 3
   },
   "file_extension": ".py",
   "mimetype": "text/x-python",
   "name": "python",
   "nbconvert_exporter": "python",
   "pygments_lexer": "ipython3",
   "version": "3.6.2"
  }
 },
 "nbformat": 4,
 "nbformat_minor": 2
}
