{
 "cells": [
  {
   "cell_type": "markdown",
   "metadata": {},
   "source": [
    "# Get stimuli ready for jsPsych 'artSurvey.html'\n",
    "#### Author: Sandy Tanwisuth\n",
    "#### Date: March, 29th 2018\n",
    "\n",
    "# Here are some thought-processes behind this code.\n",
    "\n",
    "After we have obtained the artworks, we want to get the stimuli ready for the task. In total, we have four art styles used including: \"Abstract Art\", \"Color Fields Paintings\", \"Cubism\", and \"Impressionism\". The breakdown of artworks per categories are as follows: abstract-214, colorFields-205, cubism-206, and impressionism-205. These artworks were obtained from WikiArt.org search arts by style. When looking at our artSurvey.html, you will see that each trial take around 5 seconds to complete (2 seconds for stimuli presentation, and 3 seconds for response period). We ask two questions per artworks; therby, we need 10 seconds per picture. Since mTurk task should take around 10 minutes aka 600 seconds to complete, we should have around 60 pictures per task. We then divide the task into 14 versions of around 15 pictures per category per task.\n",
    "\n",
    "## 1. Import all required packages."
   ]
  },
  {
   "cell_type": "code",
   "execution_count": 9,
   "metadata": {
    "collapsed": true
   },
   "outputs": [],
   "source": [
    "import glob, os, random, itertools, re\n",
    "import numpy as np"
   ]
  },
  {
   "cell_type": "markdown",
   "metadata": {},
   "source": [
    "## 2. Define important functions that will be reuse later on.\n",
    "\n",
    "This block contains two functions define for later usage which are \"getArtsNames\", and \"chunk\" respectively. The first one can be used to obtain an array of all \"*.jpg\" extension file names in the sub-directory input. The second is a function to chunk the artworks array into approximately equals number of pictures."
   ]
  },
  {
   "cell_type": "code",
   "execution_count": 10,
   "metadata": {
    "collapsed": true
   },
   "outputs": [],
   "source": [
    "def getArtsNames(dirName):\n",
    "    cwd = os.getcwd()\n",
    "    os.chdir(dirName)\n",
    "    artsWildCard = os.listdir()\n",
    "    artList = []\n",
    "    for file in glob.glob(\"*.jpg\"):\n",
    "        # print('{stimulus: \\\"img/' + dirName + '/' + file + '\\\"}, \\n')\n",
    "        artList.append(file)\n",
    "    os.chdir(\"..\")\n",
    "    return artList\n",
    "\n",
    "def chunk(seq, num):\n",
    "    avg = len(seq) / float(num)\n",
    "    out = []\n",
    "    last = 0.0\n",
    "    while last < len(seq):\n",
    "        out.append(seq[int(last):int(last + avg)])\n",
    "        last += avg\n",
    "    return out"
   ]
  },
  {
   "cell_type": "markdown",
   "metadata": {
    "collapsed": true
   },
   "source": [
    "## 3. Define main function to get all artworks.\n",
    "This function get all the artworks and split it into different versions."
   ]
  },
  {
   "cell_type": "code",
   "execution_count": 11,
   "metadata": {
    "collapsed": true
   },
   "outputs": [],
   "source": [
    "numChunks = 14\n",
    "\n",
    "def getStims():\n",
    "    allStims = []\n",
    "    allVersions = [[] for i in range(14)]\n",
    "    allArts = [\"abstract\", \"colorFields\", \"cubism\", \"impressionism\"]\n",
    "    \n",
    "    for artStyle in allArts:\n",
    "        artList = getArtsNames(artStyle)\n",
    "        artList = random.sample(artList, len(artList))\n",
    "        artChunk = chunk(artList, numChunks)\n",
    "        allStims.append(artChunk)\n",
    "        \n",
    "        for version in range(len(allVersions)):\n",
    "            allVersions[version].append(artChunk[version])\n",
    "            version += 1\n",
    "    \n",
    "    return allVersions"
   ]
  },
  {
   "cell_type": "markdown",
   "metadata": {},
   "source": [
    "# WARNING: DO NOT RE-RUN THIS BLOCK UNLESS NECESSARY!!!\n",
    "## 4. Call main function and write each version to file. \n",
    "The main function is being called to get all artwork in all version. Then, we write each version into text file."
   ]
  },
  {
   "cell_type": "code",
   "execution_count": 20,
   "metadata": {},
   "outputs": [
    {
     "name": "stdout",
     "output_type": "stream",
     "text": [
      "['color-perspective-1922.jpg!PinterestLarge.jpg', 'modular-painting-with-four-panels-1-1969(1).jpg!PinterestLarge.jpg', 'drawing-in-black-and-white-1962.jpg!PinterestLarge.jpg', 'dialogue-i-1967.jpg!PinterestLarge.jpg', 'the-western-wall.jpg!PinterestLarge.jpg', 'tapestry-1948.jpg!PinterestLarge.jpg', 'untitled-1947.jpg!PinterestLarge.jpg', 'composition-6.jpg!PinterestLarge.jpg', 'study-for-space-1966.jpg!PinterestLarge.jpg', 'ezinor-1949.jpg!PinterestLarge.jpg', 'jesenji-dan-70-cm-x-50-cm-akril-na-paliru-2016.jpg!PinterestLarge.jpg', 'constructivo-1933.jpg!PinterestLarge.jpg', 'untitled-1.jpg!PinterestLarge(2).jpg', 'verticals-157.jpg!PinterestLarge.jpg', 'the-snail-1953.jpg!PinterestLarge.jpg']\n",
      "['farbraum-1963.jpg!PinterestLarge.jpg', 'white-sun-box-1966.jpg!PinterestLarge.jpg', 'dalet-tet-1959.jpg!PinterestLarge.jpg', 'untitled-no-56-1996.jpg!PinterestLarge.jpg', 'untitled-1965.jpg!PinterestLarge(2).jpg', 'winter-1999.jpg!PinterestLarge.jpg', 'sour-ball-beat-1964.jpg!PinterestLarge.jpg', 'yellow-line-painting-1973.jpg!PinterestLarge.jpg', 'e-226-1955.jpg!PinterestLarge.jpg', 'exposition-sam-francis-19-mars-5-mai-1983-poster.jpg!PinterestLarge.jpg', '318-61-1961.jpg!PinterestLarge.jpg', 'untitled-1962-1.jpg!PinterestLarge.jpg', 'gomelza-1965.jpg!PinterestLarge.jpg', 'untitled-1995.jpg!PinterestLarge.jpg']\n",
      "['homage-to-gogol-design-for-curtain-for-gogol-festival-1917.jpg!PinterestLarge.jpg', 'bull-plate-x-1946.jpg!PinterestLarge.jpg', 'rush-hour.jpg!PinterestLarge.jpg', 'la-femme-au-gu-ridon-et-au-fer-cheval-1928.jpg!PinterestLarge.jpg', 'green-squash-1948.jpg!PinterestLarge.jpg', 'men-in-the-city-1919.jpg!PinterestLarge.jpg', 'wild-garden-1959.jpg!PinterestLarge.jpg', 't13861-10.jpg!PinterestLarge.jpg', 'arlequin-dansant-1924.jpg!PinterestLarge.jpg', 'untitled-3.jpg!PinterestLarge(1).jpg', 'still-life-with-water-jug-towel-and-jars-1929.jpg!PinterestLarge.jpg', 'biblical-scene.jpg!PinterestLarge.jpg', 'the-fiddler-1914.jpg!PinterestLarge.jpg', 'three-nudes-in-the-forest.jpg!PinterestLarge.jpg']\n",
      "['along-the-woods-in-spring-1889.jpg!PinterestLarge.jpg', 'valley-bouna-near-bordighera.jpg!PinterestLarge.jpg', 'farmer-to-work-1883.jpg!PinterestLarge.jpg', 'grove-of-olive-trees-in-bordighera.jpg!PinterestLarge.jpg', 'camaret-fishing-boats-off-the-shore.jpg!PinterestLarge.jpg', 'clump-of-chrysanthemums-garden-at-petit-gennevilliers.jpg!PinterestLarge.jpg', 'gladiolas-in-a-vase-1875.jpg!PinterestLarge.jpg', 'etang-also-known-as-the-pond.jpg!PinterestLarge.jpg', 'girl-in-a-doorway.jpg!PinterestLarge.jpg', 'the-cascade.jpg!PinterestLarge.jpg', 'jockeys-1.jpg!PinterestLarge.jpg', 'amagansett-long-island.jpg!PinterestLarge.jpg', 'rue-norvins-place-du-tertre-montmartre.jpg!PinterestLarge.jpg', 'the-pont-neuf-1902.jpg!PinterestLarge.jpg']\n",
      "['topological-contortion-of-a-female-figure-becoming-a-violoncello.jpg!PinterestLarge.jpg', 'unknown-title-5.jpg!PinterestLarge.jpg', 'o32-60-1960.jpg!PinterestLarge.jpg', 'immanence-2004.jpg!PinterestLarge.jpg', 'in-the-current-six-thresholds-1929(1).jpg!PinterestLarge.jpg', 'pasture-1958.jpg!PinterestLarge.jpg', 'abstraction-with-reference-to-a-flowering-tree-1925.jpg!PinterestLarge.jpg', 'bandeirinhas-e-mastro.jpg!PinterestLarge.jpg', 'untitled-1.jpg!PinterestLarge(5).jpg', 'the-wave-1950.jpg!PinterestLarge.jpg', 'hangingon-60x48.jpg!PinterestLarge.jpg', 'untitled-abstraction-mantic-1940.jpg!PinterestLarge.jpg', 'why-why-why-triptych.jpg!PinterestLarge.jpg', 'espacillimit.jpg!PinterestLarge.jpg', 'movement-in-white-umber-and-cobalt-green-1950.jpg!PinterestLarge.jpg']\n",
      "['east-and-beyond-1973.jpg!PinterestLarge.jpg', 'untitled-1959.jpg!PinterestLarge(3).jpg', 'orange-red-orange-1961.jpg!PinterestLarge.jpg', 'dominican-1952-1.jpg!PinterestLarge.jpg', 'canto-xi-1964.jpg!PinterestLarge.jpg', 'untitled-1989-2.jpg!PinterestLarge.jpg', 'low-white-sun-box-1965.jpg!PinterestLarge.jpg', 'ph-1033-1976.jpg!PinterestLarge.jpg', 'canto-xiv-1964.jpg!PinterestLarge.jpg', 'paisagem-mayor-2009.jpg!PinterestLarge.jpg', 'untitled-1967.jpg!PinterestLarge(5).jpg', 'green-painting-2006.jpg!PinterestLarge.jpg', 'saraband-1959.jpg!PinterestLarge.jpg', 'blue-painting-2002.jpg!PinterestLarge.jpg', 'untitled-1971.jpg!PinterestLarge(3).jpg']\n",
      "['still-life-red-and-yellow.jpg!PinterestLarge.jpg', 'the-appointment-of-the-four-forms-from-the-portfolio-life-forms.jpg!PinterestLarge.jpg', 'untitled-1.jpg!PinterestLarge.jpg', 'three-figures.jpg!PinterestLarge.jpg', 'zinc-1917.jpg!PinterestLarge.jpg', 'portrait-of-the-writer-m-doleng-1929.jpg!PinterestLarge.jpg', 'houses-in-munich-1909.jpg!PinterestLarge.jpg', 'the-blue-cloth-1925.jpg!PinterestLarge.jpg', 'constructive-town-1925.jpg!PinterestLarge.jpg', 'portrait-of-p-denike-yuriev-and-a-pokrovsky-1913.jpg!PinterestLarge.jpg', 'return-from-field-work.jpg!PinterestLarge.jpg', 'farm-woman-1908-1.jpg!PinterestLarge.jpg', 'portrait-dulcinea-1911.jpg!PinterestLarge.jpg', 'breads-1920.jpg!PinterestLarge.jpg', 'seated-woman-in-garden-1938.jpg!PinterestLarge.jpg']\n",
      "['woman-putting-on-her-stockings-1895.jpg!PinterestLarge.jpg', 'scene-along-a-dutch-river.jpg!PinterestLarge.jpg', 'okhotino-september-1915.jpg!PinterestLarge.jpg', 'christ-with-the-canaanite-woman-and-her-daughter-1909.jpg!PinterestLarge.jpg', 'barges-on-pontoise-1872.jpg!PinterestLarge.jpg', 'the-greenhouse-1876.jpg!PinterestLarge.jpg', 'pine-trees.jpg!PinterestLarge.jpg', 'cagnes-landscape-1908-1.jpg!PinterestLarge.jpg', 'la-jolla-arbor.jpg!PinterestLarge.jpg', 'landscape-in-la-roche-guyon-1887.jpg!PinterestLarge.jpg', 'kwiaty.jpg!PinterestLarge.jpg', 'child-in-orange-dress-1902.jpg!PinterestLarge.jpg', 'west-front-of-blenheim-palace.jpg!PinterestLarge.jpg', 'orchard-in-bloom-neskuchnoye-1908.jpg!PinterestLarge.jpg', 'rockport-boats-in-a-harbor.jpg!PinterestLarge.jpg']\n",
      "['tumblr-n1ldo3sjum1tur0p6o3-r1-500.jpg!PinterestLarge.jpg', 'the-alibi-allotrope-1970.jpg!PinterestLarge.jpg', 'abstraction-white.jpg', 'euphoria-dada-1917.jpg!PinterestLarge.jpg', 'untitled-29.jpg!PinterestLarge.jpg', 'modern-painting-with-clef-1967.jpg!PinterestLarge.jpg', 'lanscape-ii-1960.jpg!PinterestLarge.jpg', 'holding-it-together-48x48.jpg!PinterestLarge.jpg', 'e0c48c828bd324c01a0580fe6666b0e9.jpg!PinterestLarge.jpg', 'orange-violet-1935.jpg!PinterestLarge.jpg', 'abstraccion-no-3-1953.jpg!PinterestLarge.jpg', 'meditations-1970c.jpg!PinterestLarge.jpg', 'capricious-1930.jpg!PinterestLarge.jpg', 'black-and-violet-1923.jpg!PinterestLarge.jpg', 'blue-view-from-the-window-1959.jpg!PinterestLarge.jpg']\n",
      "['polar-co-ordinates-v-1980.jpg!PinterestLarge.jpg', 'untitled-1985-1.jpg!PinterestLarge.jpg', 'ressurection-1966.jpg!PinterestLarge.jpg', 'apricot-ripple-1968.jpg!PinterestLarge.jpg', 'four-panels-1971.jpg!PinterestLarge.jpg', 'aberddeen-i-1970.jpg!PinterestLarge.jpg', 'purple-color-field-with-two-green-lines.jpg!PinterestLarge.jpg', 'untitled-1985-1.jpg!PinterestLarge(1).jpg', 'red-dog-1961.jpg!PinterestLarge.jpg', 'untitled-1953.jpg!PinterestLarge.jpg', 'untitled-1959-1.jpg!PinterestLarge.jpg', 'banjo-1981.jpg!PinterestLarge.jpg', 'canto-iv-1963.jpg!PinterestLarge.jpg', 'elements-v.jpg!PinterestLarge.jpg']\n",
      "['portrait-of-albert-gleizes-1912.jpg!PinterestLarge.jpg', 'landscape-study-for-composition-xii-1918.jpg!PinterestLarge.jpg', 'the-breakfast-1921.jpg!PinterestLarge.jpg', 'still-life-scales-1916.jpg!PinterestLarge.jpg', 'composition-ii-still-life-1916.jpg!PinterestLarge.jpg', 'kmetty-janos-asztali-csendelet-1910-es-evek-kozepe-37-43.jpg!PinterestLarge.jpg', 'lucky-strike-1921.jpg!PinterestLarge.jpg', 'the-feast-of-the-tabernacles-1916.jpg!PinterestLarge.jpg', 'kuntsevo-cottage-1919.jpg!PinterestLarge.jpg', 'georgette-at-the-piano-1923(1).jpg!PinterestLarge.jpg', 'the-artists-1916.jpg!PinterestLarge.jpg', 'abstract-composition-figures-in-a-landscape-1930.jpg!PinterestLarge.jpg', 'composition-iv-1916.jpg!PinterestLarge.jpg', 'tracking-down-guiltless-doves.jpg!PinterestLarge.jpg']\n",
      "['trees-in-bloom-1889.jpg!PinterestLarge.jpg', 'yerres-part-of-the-south-façade-of-the-casin.jpg!PinterestLarge (Unicode Encoding Conflict).jpg', 'jardin-du-luxembourg.jpg!PinterestLarge.jpg', 'old-teacher-portrait-of-mykola-murashko-1906-3-2.jpg!PinterestLarge.jpg', 'valley-of-the-creuse-afternoon-sunlight.jpg!PinterestLarge.jpg', 'dansatoare-oriental.jpg!PinterestLarge.jpg', 'prayer-in-the-saint-pierre-cathedral-in-geneva-1882.jpg!PinterestLarge.jpg', 'in-the-hills-southwest-texas-1912.jpg!PinterestLarge.jpg', 'young-girl-in-the-fields.jpg!PinterestLarge.jpg', 'seville-1910.jpg!PinterestLarge.jpg', 'brittany-goose-girl-1908.jpg!PinterestLarge.jpg', 'place-de-l-opera-caf-de-la-paix.jpg!PinterestLarge.jpg', 'dewey-s-arch.jpg!PinterestLarge.jpg', 'painters-on-the-beach.jpg!PinterestLarge.jpg']\n",
      "['invention-composition-31-1933.jpg!PinterestLarge.jpg', 'after-the-floods-1936(1).jpg!PinterestLarge.jpg', 'gasse-mit-torbogen(1).jpg!PinterestLarge.jpg', 'paesaggio-cosmico-1934.jpg!PinterestLarge.jpg', 'farfalla.jpg!PinterestLarge.jpg', 'hamamet-1914(1).jpg!PinterestLarge.jpg', 'small-pleasures-1913.jpg!PinterestLarge.jpg', 'soulflowers(1).jpg!PinterestLarge.jpg', 'espacillimit-1957.jpg!PinterestLarge.jpg', 'composition-1920(3).jpg!PinterestLarge.jpg', 'energy-field-1967.jpg!PinterestLarge.jpg', 'armonie-di-forme-contrarie-1935.jpg!PinterestLarge.jpg', 'untitled-2012-6.jpg!PinterestLarge.jpg', 'untitled-1966(1).jpg!PinterestLarge.jpg', 'niwiarki-1950.jpg!PinterestLarge.jpg']\n",
      "['zebra-1969.jpg!PinterestLarge.jpg', 'red-with-white-triangle-1961.jpg!PinterestLarge.jpg', 'alya-1964.jpg!PinterestLarge.jpg', 'blues-reds-1969.jpg!PinterestLarge.jpg', 'untitled-1967.jpg!PinterestLarge(4).jpg', 'beth-zayin-1959.jpg!PinterestLarge.jpg', 'ghana.jpg!PinterestLarge.jpg', 'untitled-1957.jpg!PinterestLarge(1).jpg', 'istria-v-2011.jpg!PinterestLarge.jpg', 'attacca-1975.jpg!PinterestLarge.jpg', 'smithsonian-resident-associates-program-1985-20th-anniversary-poster-1985.jpg!PinterestLarge.jpg', 'untitled-brown-violet-2001.jpg!PinterestLarge.jpg', 'lure-ii-1976.jpg!PinterestLarge.jpg', 'royal-canoe-1977.jpg!PinterestLarge.jpg', 'segwehce-1965.jpg!PinterestLarge.jpg']\n",
      "['view-towards-the-danube-1933.jpg!PinterestLarge.jpg', 'the-jug-on-the-table.jpg!PinterestLarge.jpg', 'still-life-crystal-1916.jpg!PinterestLarge.jpg', 'landscape-with-sunset-1923(1).jpg!PinterestLarge.jpg', 'woman-on-a-balcony-1914.jpg!PinterestLarge.jpg', 'the-new-eve-1924.jpg!PinterestLarge.jpg', 'the-fiance-1944.jpg!PinterestLarge.jpg', 'taboo-1963(1).jpg!PinterestLarge.jpg', 'machinery.jpg!PinterestLarge.jpg', 'forms-1918.jpg!PinterestLarge.jpg', 'the-three-graces.jpg!PinterestLarge.jpg', 'ecstasy-1960-2.jpg!PinterestLarge.jpg', 'spanish-dancers.jpg!PinterestLarge.jpg', 'still-life-with-lemons-1907.jpg!PinterestLarge.jpg', 'the-viaduct.jpg!PinterestLarge.jpg']\n",
      "['madame-manet-in-conservatory-1879.jpg!PinterestLarge.jpg', 'flood-at-giverny-1897.jpg!PinterestLarge.jpg', 'valencia-landscape-1894.jpg!PinterestLarge.jpg', 'ice-lock-port-villez.jpg!PinterestLarge.jpg', 'northeast-gorge-at-appledore.jpg!PinterestLarge.jpg', 'woodland-stream-in-a-winter-landscape.jpg!PinterestLarge.jpg', 'late-afternoon-giverny-1910.jpg!PinterestLarge.jpg', 'roses-1910.jpg!PinterestLarge.jpg', 'vase-of-peonies.jpg!PinterestLarge(1).jpg', 'fishing.jpg!PinterestLarge(2).jpg', 'a-misty-morning.jpg!PinterestLarge.jpg', 'etaples-la-canache-low-tide-1890.jpg!PinterestLarge.jpg', 'morning-on-the-seine-clear-weather-02.jpg!PinterestLarge.jpg', 'sunset-1.jpg!PinterestLarge(2).jpg', 'rocky-coast-1896.jpg!PinterestLarge.jpg']\n",
      "['cycle-48x60.jpg!PinterestLarge.jpg', 'painting-on-light-ground-1916.jpg!PinterestLarge.jpg', 'untitled-formerly-self-portrait-1945.jpg!PinterestLarge.jpg', 'tennis-1933.jpg!PinterestLarge.jpg', 'unknown-title-14.jpg!PinterestLarge.jpg', 'gr-relief-ii-1932.jpg!PinterestLarge.jpg', 'composizione-paesaggio-dada-n-3-o-n-2-1921.jpg!PinterestLarge.jpg', 'sea-1959.jpg!PinterestLarge.jpg', 'the-big-wheel-1970.jpg!PinterestLarge.jpg', 'picture-with-a-black-arch-1912.jpg!PinterestLarge.jpg', 'eroticon-1990.jpg!PinterestLarge.jpg', 'pera-1986.jpg!PinterestLarge.jpg', 'unknown-title-16.jpg!PinterestLarge.jpg', 'runner-1934.jpg!PinterestLarge.jpg', 'football.jpg!PinterestLarge.jpg', 'title-sekere-visual-artist-ayibiowu-olusola-e-david-medium-oil-on-canvas-year-2004-1.jpg!PinterestLarge.jpg']\n",
      "['black-on-maroon-4.jpg!PinterestLarge.jpg', 'hydra-1981.jpg!PinterestLarge.jpg', 'magus-1981.jpg!PinterestLarge.jpg', 'il-labirinto-della-psiche-1986.jpg!PinterestLarge.jpg', 'rose-sun-box-nr-2-1969.jpg!PinterestLarge.jpg', '19-1963-1963.jpg!PinterestLarge.jpg', 'untitled-1974.jpg!PinterestLarge.jpg', 'summer-palace-1975.jpg!PinterestLarge.jpg', 'farbraumk-rper-1982.jpg!PinterestLarge.jpg', 'raval-rojo-2004.jpg!PinterestLarge.jpg', 'painting-1-75-1975.jpg!PinterestLarge.jpg', 'untitled-red-and-orange-on-salmon-1969.jpg!PinterestLarge.jpg', 'orange-over-violet-1968.jpg!PinterestLarge.jpg', 'nexx-central-revisited-1996.jpg!PinterestLarge.jpg']\n",
      "['the-sand-crab.jpg!PinterestLarge.jpg', 'ferry-at-bigwin-island-1952.jpg!PinterestLarge.jpg', 'figure-with-balls-1938.jpg!PinterestLarge.jpg', 'the-mutilated-1943.jpg!PinterestLarge.jpg', 'fruit-bowl-pipe-and-newspaper.jpg!PinterestLarge.jpg', 'chateau-noir-1.jpg!PinterestLarge.jpg', 'landscape-near-martigues-1908.jpg!PinterestLarge.jpg', 'peasant-woman-with-buckets-and-a-child.jpg!PinterestLarge.jpg', 'l-oiseau-1915.jpg!PinterestLarge.jpg', 'self-portrait-with-yellow-hat-1965-janos-kmetty-oil-painting-1.jpg!PinterestLarge.jpg', 'le-d-jeuner-pr-s-du-phare-1928.jpg!PinterestLarge.jpg', 'taureau-x-1955.jpg!PinterestLarge.jpg', 'sitting-nude-1909.jpg!PinterestLarge.jpg', 'homage-to-mozart.jpg!PinterestLarge.jpg', 'il-lavoro-1951.jpg!PinterestLarge.jpg']\n",
      "['inside-the-studio-of-the-painter-with-errazuriz-damsel.jpg!PinterestLarge.jpg', 'elisabeth-avenue-after-rain.jpg!PinterestLarge.jpg', 'spring-at-pontoise-1872.jpg!PinterestLarge.jpg', 'roman-architecture.jpg!PinterestLarge.jpg', 'rua-de-barbizon-1879.jpg!PinterestLarge.jpg', 'woman-wearing-a-hat-in-a-landscape.jpg!PinterestLarge.jpg', 'along-the-path-at-shinnecock.jpg!PinterestLarge.jpg', 'bougival-1878.jpg!PinterestLarge.jpg', 'after-the-rain.jpg!PinterestLarge(1).jpg', 'esbo-o-para-o-vel-rio-boceto-para-el-velorio-sketch-for-the-wake-1893.jpg!PinterestLarge.jpg', 'the-coast-at-sainte-adresse.jpg!PinterestLarge.jpg', 'dancers-in-light-blue-rehearsing-in-the-dance-studio.jpg!PinterestLarge.jpg', 'don-juan-s-encounter-with-the-stony-gues.jpg!PinterestLarge.jpg', 'a-youngster-in-the-forest.jpg!PinterestLarge.jpg']\n",
      "['fairy-tale-1970c.jpg!PinterestLarge.jpg', 'draft-for-mural-in-the-unjuried-art-show-wall-b-1922.jpg!PinterestLarge.jpg', 'the-open-window-1915.jpg!PinterestLarge.jpg', 'untitled-1963.jpg!PinterestLarge.jpg', 'dedicated-to-jacques-callot-1941.jpg!PinterestLarge.jpg', 'l-enclume-1952.jpg!PinterestLarge.jpg', 'kompozycja-morska-wenus-1933.jpg!PinterestLarge.jpg', 'goat-1934.jpg!PinterestLarge.jpg', 'the-vertebrate-grotto-transfer-series.jpg!PinterestLarge.jpg', 'ile-de-france-1935.jpg!PinterestLarge.jpg', 'untitled(3).jpg', 'untitled-1966(3).jpg!PinterestLarge.jpg', 'study-for-improvisation-8-1909.jpg!PinterestLarge.jpg', 'four-crosses-1924.jpg!PinterestLarge.jpg', 'mi-care-acvatic-1967.jpg!PinterestLarge.jpg']\n",
      "['tdb.jpg!PinterestLarge.jpg', 'backbone-1979.jpg!PinterestLarge.jpg', 'pocahontas-1978.jpg!PinterestLarge.jpg', 'oe-280-komposition-in-rot-mit-wei-und-blau-1959.jpg!PinterestLarge.jpg', 'unknown-title.jpg!PinterestLarge(3).jpg', 'the-howl-of-terror-1967.jpg!PinterestLarge.jpg', 'unknown-title-2.jpg!PinterestLarge.jpg', 'unknown-title-15.jpg!PinterestLarge.jpg', 'hommage-to-alfred-jensen-1958.jpg!PinterestLarge.jpg', 'citadel-1962.jpg!PinterestLarge.jpg', 'glow-ii-1968.jpg!PinterestLarge.jpg', 'starry-night-and-the-astronauts-1972.jpg!PinterestLarge.jpg', 'square-motif-in-white-and-indian-red-1960.jpg!PinterestLarge.jpg', 'not_detected_242128.jpg!PinterestLarge.jpg', 'untitled-1952.jpg!PinterestLarge.jpg']\n",
      "['animal-destinies-the-trees-show-their-rings-the-animals-their-veins.jpg!PinterestLarge.jpg', 'planches-de-salut-1931.jpg!PinterestLarge.jpg', 'the-trapeze-artists-1922.jpg!PinterestLarge.jpg', 'self-portrait-1913.jpg!PinterestLarge.jpg', 'still-life-1920.jpg!PinterestLarge.jpg', 'portrait-of-manuel-pallares-1909.jpg!PinterestLarge.jpg', 'still-life.jpg!PinterestLarge(4).jpg', 'bust-of-woman-1939.jpg!PinterestLarge.jpg', 'love-1910.jpg!PinterestLarge.jpg', 'the-violin-1916.jpg!PinterestLarge.jpg', 'the-javelin-thrower.jpg!PinterestLarge.jpg', 'the-sailor-self-portrait-1912.jpg!PinterestLarge.jpg', 'the-level-crossing-1912.jpg!PinterestLarge.jpg', 'still-life-1.jpg!PinterestLarge(1).jpg']\n",
      "['poplars-at-giverny-2.jpg!PinterestLarge.jpg', 'roquefort.jpg!PinterestLarge.jpg', 'crimea-yayla.jpg!PinterestLarge.jpg', 'lake-in-the-mountains-1899.jpg!PinterestLarge.jpg', 'charing-cross-bridge-london-1890.jpg!PinterestLarge.jpg', 'brooklyn-bridge-in-winter.jpg!PinterestLarge.jpg', 'rowlandson-house-sunset-1912.jpg!PinterestLarge.jpg', 'from-dieppe-to-arques-river.jpg!PinterestLarge.jpg', 'tulip-fields-at-sassenheim-near-leiden-1886.jpg!PinterestLarge.jpg', 'still-life-with-flowers-skull-and-oak-leaves-1915.jpg!PinterestLarge.jpg', 'russian-dancers.jpg!PinterestLarge.jpg', 'morning-on-the-pond.jpg!PinterestLarge.jpg', 'in-the-garden-at-maurecourt.jpg!PinterestLarge.jpg', 'portrait-of-poly-fisherman-at-kervillaouen.jpg!PinterestLarge.jpg', 'afternoon-in-the-park.jpg!PinterestLarge.jpg']\n",
      "['composition-1965.jpg!PinterestLarge.jpg', 'african-1958.jpg!PinterestLarge.jpg', 'rencontre-sur-une-plage.jpg!PinterestLarge.jpg', 'variation-on-a-theme-1958.jpg!PinterestLarge.jpg', 'a-time-to-turn-48x48.jpg!PinterestLarge.jpg', 'sur-fond-gris-n-10-1963.jpg!PinterestLarge.jpg', 'de-tio-st-rsta-n-10-alderdomen-1907.jpg!PinterestLarge.jpg', 'thursday-jeudi.jpg!PinterestLarge.jpg', 'composition-1919.jpg!PinterestLarge.jpg', 'underground-metaphysical-landscape-c-1960-4.jpg!PinterestLarge.jpg', 'composition-1998.jpg!PinterestLarge.jpg', 'composition-8.jpg!PinterestLarge.jpg', 'red-and-blue-layers-1954.jpg!PinterestLarge.jpg', 'crossing-1928.jpg!PinterestLarge.jpg', 'painterly-architectonic.jpg!PinterestLarge.jpg']\n",
      "['all-night-1989.jpg!PinterestLarge.jpg', 'untitled-sfm66-03-1966.jpg!PinterestLarge.jpg', 'flute-passage-1975.jpg!PinterestLarge.jpg', 'untitled-no-184-2001.jpg!PinterestLarge.jpg', 'jasper-s-dilemma-1972.jpg!PinterestLarge.jpg', 'no-2.jpg!PinterestLarge.jpg', 'midnight-watch-1976.jpg!PinterestLarge.jpg', 'untitled-1959.jpg!PinterestLarge(5).jpg', 'coloured-wall-2003.jpg!PinterestLarge.jpg', 'rose-rose-london-2012-olympic-games-poster-2012.jpg!PinterestLarge.jpg', 'untitled-no-114-2002.jpg!PinterestLarge.jpg', 'red-white-and-brown.jpg!PinterestLarge.jpg', 'untitled-1966(1).jpg!PinterestLarge.jpg', 'untitled-1949-1.jpg!PinterestLarge.jpg', 'mother-e-2009.jpg!PinterestLarge.jpg']\n",
      "['aviator.jpg!PinterestLarge.jpg', 'bibemus-quarry-1898-1.jpg!PinterestLarge.jpg', 'enclosures-and-broken-branches-1938.jpg!PinterestLarge.jpg', 'self-portrait-with-seven-digits-autoportrait-1913.jpg!PinterestLarge.jpg', 'taureau-ix-1954.jpg!PinterestLarge.jpg', 'the-cloud-1921.jpg!PinterestLarge.jpg', 'baj-chez-picasso-4-1969.jpg!PinterestLarge.jpg', 'madonna.jpg!PinterestLarge.jpg', 'title-unknown-coty-1917.jpg!PinterestLarge.jpg', 'milliners-workshop-of-the-milliner-1926.jpg!PinterestLarge.jpg', 'the-studio-viii-1954.jpg!PinterestLarge.jpg', 'jack-of-hearts.jpg!PinterestLarge.jpg', 'the-bird-seller-1976.jpg!PinterestLarge.jpg', 'lemons-1929.jpg!PinterestLarge.jpg', 'night-ceremony.jpg!PinterestLarge.jpg']\n",
      "['nature-morte.jpg!PinterestLarge.jpg', 'carmel-coast-1919.jpg!PinterestLarge.jpg', 'the-moret-bridge-1888.jpg!PinterestLarge.jpg', 'the-japanese-bridge-the-water-lily-pond-1899.jpg!PinterestLarge.jpg', 'spring-morning.jpg!PinterestLarge.jpg', 'port-of-dieppe-evening.jpg!PinterestLarge.jpg', 'rouen-cathedral-sunlight-effect.jpg!PinterestLarge.jpg', 'barbara.jpg!PinterestLarge.jpg', 'houses-of-parliament-in-winter.jpg!PinterestLarge.jpg', 'a-mother-and-son-seated-by-a-wall-before-the-sea.jpg!PinterestLarge.jpg', 'houses-in-provence.jpg!PinterestLarge.jpg', 'fall-scene-near-sisterdale-1909.jpg!PinterestLarge.jpg', 'a-grey-day-carmel.jpg!PinterestLarge.jpg', 'isle-of-brehat-1892.jpg!PinterestLarge.jpg', 'the-coastguard-cabin-at-varengeville.jpg!PinterestLarge.jpg']\n",
      "['composition-1933.jpg!PinterestLarge(1).jpg', 'tuesday-mardi.jpg!PinterestLarge.jpg', 'erotic-6.jpg!PinterestLarge.jpg', 'the-vertebrated-cavern-series-of-decals.jpg!PinterestLarge.jpg', 'small-table-upper-surface-1920.jpg!PinterestLarge.jpg', 'abstraction-1927-1.jpg!PinterestLarge.jpg', 'composition-4.jpg!PinterestLarge.jpg', 'e-1915.jpg!PinterestLarge.jpg', 'brushstrokes-1968(1).jpg!PinterestLarge.jpg', 'composition-vi-1913.jpg!PinterestLarge.jpg', 'not_detected_189367.jpg!PinterestLarge.jpg', 'painterly-architectonic-3.jpg!PinterestLarge.jpg', 'abstract-1940.jpg!PinterestLarge.jpg', 'unknown-title.jpg!PinterestLarge(4).jpg', 'hot-air-balloon-1926.jpg!PinterestLarge.jpg']\n",
      "['new-morning-1996.jpg!PinterestLarge.jpg', 'untitled-1962.jpg!PinterestLarge(4).jpg', 'concerto-1975.jpg!PinterestLarge.jpg', 'earth-sermon-beauty-love-and-peace-1971.jpg!PinterestLarge.jpg', 'ohne-titel-for-thomas-merton-1971.jpg!PinterestLarge.jpg', 'thira-1980.jpg!PinterestLarge.jpg', 'untitled-for-cool-series-1960.jpg!PinterestLarge.jpg', 'unknown-title-5.jpg!PinterestLarge.jpg', 'alruccabah-1964.jpg!PinterestLarge.jpg', 'sevastipol-2003.jpg!PinterestLarge.jpg', 'beta-lambda-1961.jpg!PinterestLarge.jpg', 'canto-xii-1964.jpg!PinterestLarge.jpg', 'maple-grove-2008.jpg!PinterestLarge.jpg', 'black-on-maroon-1.jpg!PinterestLarge.jpg']\n",
      "['purim.jpg!PinterestLarge.jpg', 'crane-and-pitcher-1945.jpg!PinterestLarge.jpg', 'two-women-with-the-toilet-final-state-1920.jpg!PinterestLarge.jpg', 'the-fourteenth-of-july-1914.jpg!PinterestLarge.jpg', 'view-of-notre-dame-1914.jpg!PinterestLarge.jpg', 'farm-at-montgeroult-1898.jpg!PinterestLarge.jpg', 'at-wattle-1972-5.jpg!PinterestLarge.jpg', 'three-women-1908.jpg!PinterestLarge.jpg', 'shacks-1964.jpg!PinterestLarge.jpg', 'paris-roofs-ii-1952.jpg!PinterestLarge.jpg', 'a-red-pedestal-1942.jpg!PinterestLarge.jpg', 'vytautas-kairiukstis-kubistinis-portretas-imagelarge.jpg!PinterestLarge.jpg', 'soir-e-d-octobre-1946.jpg!PinterestLarge.jpg', 'bouteille-et-livre-rose-1926.jpg!PinterestLarge.jpg', 'self-portrait.jpg!PinterestLarge(1).jpg']\n",
      "['spring-1890.jpg!PinterestLarge.jpg', 'mending-the-sail-1896.jpg!PinterestLarge.jpg', 'cuirassier-1881.jpg!PinterestLarge.jpg', 'winterfun-on-de-loswal-hattem-1914.jpg!PinterestLarge.jpg', 'houses-on-the-zaan-river-at-zaandam.jpg!PinterestLarge.jpg', 'laundresses-on-the-banks-of-the-touques.jpg!PinterestLarge.jpg', 'a-fisherman-s-cottage.jpg!PinterestLarge.jpg', 'two-vases-with-chrysanthems.jpg!PinterestLarge.jpg', 'koncha-zaspa-ozernaya-1985.jpg!PinterestLarge.jpg', 'tennis-game-by-the-sea-1901.jpg!PinterestLarge.jpg', 'moon-on-the-lake-1907.jpg!PinterestLarge.jpg', 'weeping-willow-4-1919.jpg!PinterestLarge.jpg', 'gateway-tangier-1910.jpg!PinterestLarge.jpg', 'rainbow.jpg!PinterestLarge.jpg']\n",
      "['against-the-light-1986.jpg!PinterestLarge.jpg', 'untitled-1968-2.jpg!PinterestLarge.jpg', 'komposition-1950.jpg!PinterestLarge.jpg', 'not_detected_189365.jpg!PinterestLarge.jpg', 'grey-space.jpg!PinterestLarge.jpg', 'mask-4-1936.jpg!PinterestLarge.jpg', 'weehawken-sequence-1916.jpg!PinterestLarge.jpg', 'untitled-2.jpg!PinterestLarge(1).jpg', 'untitled-28.jpg!PinterestLarge.jpg', 'rebuilding-the-tower-2009.jpg!PinterestLarge.jpg', 'golden-people-1999.jpg!PinterestLarge.jpg', 'yellow-and-green-brushstrokes-1966.jpg!PinterestLarge.jpg', 'untitled-1948.jpg!PinterestLarge.jpg', 'weehawken-sequence-no-30-1916.jpg!PinterestLarge.jpg', 'untitled-11.jpg!PinterestLarge.jpg']\n",
      "['pink-stripe-1960.jpg!PinterestLarge.jpg', 'red.jpg!PinterestLarge.jpg', 'burnt-umber-ultra-marine-l-1981.jpg!PinterestLarge.jpg', 'untitled-156-1971.jpg!PinterestLarge.jpg', 'oe-260-1957.jpg!PinterestLarge.jpg', 'sem-titulo-1988.jpg!PinterestLarge.jpg', 'papier-d-coup-1967.jpg!PinterestLarge.jpg', 'delta-lambda-1961.jpg!PinterestLarge.jpg', 'the-station-of-the-cross-first-station-1958.jpg!PinterestLarge.jpg', 'castle-banner-5-2004.jpg!PinterestLarge.jpg', 'untitled-no-30-1996.jpg!PinterestLarge.jpg', 'white-roses-sing-and-sing-1976.jpg!PinterestLarge.jpg', 'white-fire-i-1954.jpg!PinterestLarge.jpg', 'untitled-1984.jpg!PinterestLarge.jpg', 'cathedral-11-1968.jpg!PinterestLarge.jpg']\n",
      "['stables-1913.jpg!PinterestLarge.jpg', 'portrait-de-j-l-b.jpg!PinterestLarge.jpg', 'no-name-2(1).jpg!PinterestLarge.jpg', 'three-girls-on-red-background-composition-with-three-women-1927.jpg!PinterestLarge.jpg', 'dances-at-the-spring-1912.jpg!PinterestLarge.jpg', 'interior-with-balcony-1928.jpg!PinterestLarge.jpg', 'the-night-responds-to-my-complaints-1933.jpg!PinterestLarge.jpg', 'factory-in-nara-1918.jpg!PinterestLarge.jpg', 'red-ocean-blue-1915.jpg!PinterestLarge.jpg', 'man-s-head.jpg!PinterestLarge.jpg', 'rain-1929.jpg!PinterestLarge.jpg', 'costume-design-3.jpg!PinterestLarge.jpg', 'dessert-1913.jpg!PinterestLarge.jpg', 'head-1918.jpg!PinterestLarge.jpg']\n",
      "['still-life-with-pomegranates.jpg!PinterestLarge.jpg', 'afternoon-sun-at-the-alcázar-of-seville-1910.jpg!PinterestLarge (Unicode Encoding Conflict).jpg', 'woman-with-a-fan.jpg!PinterestLarge.jpg', 'boulevard-des-batignolles.jpg!PinterestLarge.jpg', 'home-fields.jpg!PinterestLarge.jpg', 'saint-tropez.jpg!PinterestLarge.jpg', 'rue-caulaincourt-mills-on-montmarte-1884.jpg!PinterestLarge.jpg', 'a-spanish-barracks-1906.jpg!PinterestLarge.jpg', 'the-reading-1869.jpg!PinterestLarge.jpg', 'the-clearing-in-the-woods-1913.jpg!PinterestLarge.jpg', 'water-lilies-1899-1.jpg!PinterestLarge.jpg', 'cliff-at-fecamp.jpg!PinterestLarge.jpg', 'winter.jpg!PinterestLarge(4).jpg', 'the-beach-at-trouville-1869.jpg!PinterestLarge.jpg', 'churchyard-at-shillingstone-1884.jpg!PinterestLarge.jpg']\n",
      "['core-36x48.jpg!PinterestLarge.jpg', 'parque-de-s-paulo-1996.jpg!PinterestLarge.jpg', 'concentric-1925.jpg!PinterestLarge.jpg', 'kateau-1953.jpg!PinterestLarge.jpg', 'improvisation-209-1917(1).jpg!PinterestLarge.jpg', 'composition-1936.jpg!PinterestLarge.jpg', 'peaky-forms-1923.jpg!PinterestLarge.jpg', 'twins.jpg!PinterestLarge.jpg', 'miracles-of-evolution-africa-1977.jpg!PinterestLarge.jpg', 'nova-aurigae-1918.jpg!PinterestLarge.jpg', 'unknown-title(7).jpg!PinterestLarge.jpg', 'totem.jpg!PinterestLarge.jpg', 'the-purple-morning-1996.jpg!PinterestLarge.jpg', 'double-impression-iv-1978.jpg!PinterestLarge.jpg', 'square-motif-blue-and-gold-the-eclipse-1950.jpg!PinterestLarge.jpg', 'composition-1992.jpg!PinterestLarge.jpg']\n",
      "['red-baron-1978.jpg!PinterestLarge.jpg', 'untitled-in-5-parts-1987.jpg!PinterestLarge.jpg', 'ayin-1958.jpg!PinterestLarge.jpg', 'rb-ps-2-15-1990.jpg!PinterestLarge.jpg', 'samba-2005.jpg!PinterestLarge.jpg', 'veiled-sail-1969.jpg!PinterestLarge.jpg', 'corot-s-mark-1987.jpg!PinterestLarge.jpg', 'salute-1958(1).jpg!PinterestLarge.jpg', 'seward-park-1958.jpg!PinterestLarge.jpg', 'munich-olympic-games-poster-1972.jpg!PinterestLarge.jpg', 'infinity-field-lefkada-series-1982(1).jpg!PinterestLarge.jpg', 'untitled-1962.jpg!PinterestLarge(3).jpg', 'broad-turning-1958.jpg!PinterestLarge.jpg', 'untitled-1967.jpg!PinterestLarge(2).jpg']\n",
      "['stll-life-with-a-red-vase-1939.jpg!PinterestLarge.jpg', 'marika-with-her-dog-and-cats-1968.jpg!PinterestLarge.jpg', 'etude-pour-sculpture-1944.jpg!PinterestLarge.jpg', 'workbox.jpg!PinterestLarge.jpg', 'haven-opus-2-1926.jpg!PinterestLarge.jpg', 'gelmeroda-1936.jpg!PinterestLarge.jpg', 'enangalismos.jpg!PinterestLarge.jpg', 'metronome.jpg!PinterestLarge.jpg', 'city-movement-1940.jpg!PinterestLarge.jpg', 'san-giacomo-di-varallo-1924.jpg!PinterestLarge.jpg', 'mountaineers-attacked-by-bears-1912.jpg!PinterestLarge.jpg', 'head-of-a-man-1908-1.jpg!PinterestLarge.jpg', 'trees-by-the-water-1900.jpg!PinterestLarge.jpg', 'pillars-of-salt.jpg!PinterestLarge.jpg', 'orange-vendor-spain.jpg!PinterestLarge.jpg']\n",
      "['rbol-ca-do.jpg!PinterestLarge.jpg', 'flowers-in-a-vase.jpg!PinterestLarge(1).jpg', 'potato-market-boulevard-des-fosses-pontoise-1882.jpg!PinterestLarge.jpg', 'women-s-figures-in-the-park.jpg!PinterestLarge.jpg', 'cliff-at-grainval-near-fecamp.jpg!PinterestLarge.jpg', 'children-by-the-sea-in-guernsey-1883.jpg!PinterestLarge.jpg', 'pink-bush-1906.jpg!PinterestLarge.jpg', 'normans-woe-gloucester-massachusetts.jpg!PinterestLarge.jpg', 'figure-and-pool-1917.jpg!PinterestLarge.jpg', 'the-valley-of-sasso-sunshine.jpg!PinterestLarge.jpg', 'desert-and-mountains.jpg!PinterestLarge.jpg', 'cos-cob-1899.jpg!PinterestLarge.jpg', 'chestnut-trees-louveciennes-spring-1870.jpg!PinterestLarge.jpg', 'tree-in-the-farm-yard-1874.jpg!PinterestLarge.jpg']\n",
      "['figure-rose-1937.jpg!PinterestLarge.jpg', 'abstract-composition-1915(1).jpg!PinterestLarge.jpg', 'abstraction-1926.jpg!PinterestLarge.jpg', 'deux-styles-1958.jpg!PinterestLarge.jpg', 'composition-1924-1.jpg!PinterestLarge.jpg', 'encirclement.jpg!PinterestLarge.jpg', 'landscape-with-red-spots-1913.jpg!PinterestLarge.jpg', 'variation-z-rtlichkeiten-1917.jpg!PinterestLarge.jpg', 'untitled-2012-7(1).jpg!PinterestLarge.jpg', 'lines-1922.jpg!PinterestLarge.jpg', 'application-1962.jpg!PinterestLarge.jpg', 'imploding-cosmos-1992.jpg!PinterestLarge.jpg', 'fragile-1931.jpg!PinterestLarge.jpg', 'hanging-garden-1973.jpg!PinterestLarge.jpg', 'construction-with-belltower-1932.jpg!PinterestLarge.jpg']\n",
      "['untitled-gray-and-mauve-1969.jpg!PinterestLarge.jpg', 'yellows-1969.jpg!PinterestLarge.jpg', 'green-giant-1980.jpg!PinterestLarge.jpg', '867-97-vulcano-1997.jpg!PinterestLarge.jpg', 'autumn-leaves-fluttering-in-the-breeze-1973.jpg!PinterestLarge.jpg', 'carthage-1962.jpg!PinterestLarge.jpg', 'untilted-1959.jpg!PinterestLarge.jpg', 'archimandrite-1960.jpg!PinterestLarge.jpg', 'two-edges-1948.jpg!PinterestLarge.jpg', 'untitled-i-2000.jpg!PinterestLarge.jpg', 'no-24.jpg!PinterestLarge.jpg', 'train-landscape-1953.jpg!PinterestLarge.jpg', '29-03-60-1960.jpg!PinterestLarge.jpg', 'untitled-1979(2).jpg!PinterestLarge.jpg', 'twined-columns-ii-1960.jpg!PinterestLarge.jpg']\n",
      "['dropsgezicht-1911.jpg!PinterestLarge.jpg', 'trouville-1911.jpg!PinterestLarge.jpg', 'man-and-woman-1926.jpg!PinterestLarge.jpg', 'inca-with-birds-1933.jpg!PinterestLarge.jpg', 'the-signal-1915.jpg!PinterestLarge.jpg', 'nu-au-soleil-nude-in-the-sun-1935.jpg!PinterestLarge.jpg', 'landscape.jpg!PinterestLarge(1).jpg', 'relief.jpg!PinterestLarge(1).jpg', 'the-creation-of-the-prehistoric-world-state-1923.jpg!PinterestLarge.jpg', 'golgotha-1912.jpg!PinterestLarge.jpg', 'composition-with-the-mona-lisa-1914.jpg!PinterestLarge.jpg', 'falk-sleeping-gypsy.jpg!PinterestLarge.jpg', 'composition-au-visage-et-au-coquillage-1939.jpg!PinterestLarge.jpg', 'construction-africa-cezanne-cubism-and-japan.jpg!PinterestLarge.jpg', 'small-things-1966.jpg!PinterestLarge.jpg']\n",
      "['street-from-bretania-1.jpg!PinterestLarge.jpg', 'harbor-in-hel-1934-1.jpg!PinterestLarge.jpg', 'peasant-home-in-curtea-de-arge-1922.jpg!PinterestLarge.jpg', 'birch-grow.jpg!PinterestLarge.jpg', 'villa-with-orange-trees-nice.jpg!PinterestLarge.jpg', 'at-the-theater-1879.jpg!PinterestLarge.jpg', 'untitled-1885.jpg!PinterestLarge.jpg', 'camaret-boats-in-the-harbor.jpg!PinterestLarge.jpg', 'view-of-the-thames-charing-cross-bridge-1874.jpg!PinterestLarge.jpg', 'green-hills-and-farmland.jpg!PinterestLarge.jpg', 'hoarfrost-1890.jpg!PinterestLarge.jpg', 'roses-in-a-vase.jpg!PinterestLarge.jpg', 'sky-at-sunset.jpg!PinterestLarge.jpg', 'hilltown.jpg!PinterestLarge.jpg', 'cherhana-1929.jpg!PinterestLarge.jpg']\n",
      "['untitled-1913.jpg!PinterestLarge.jpg', 'conglomerat-1943.jpg!PinterestLarge.jpg', 'han-i-on-yellow-1955.jpg!PinterestLarge.jpg', 'grafe-i-1971(1).jpg!PinterestLarge.jpg', 'komposition-1919.jpg!PinterestLarge.jpg', 'composition-on-a-red-ground-1931(1).jpg!PinterestLarge.jpg', '2005-60-80.jpg!PinterestLarge.jpg', 'selam-trilogy.jpg!PinterestLarge.jpg', 'animal-head-1938.jpg!PinterestLarge.jpg', 'modular-painting-with-four-panels-2-1969(1).jpg!PinterestLarge.jpg', 'plumen-1957.jpg!PinterestLarge.jpg', 'house-on-the-water-1930.jpg!PinterestLarge.jpg', 'miristedup(1).jpg!PinterestLarge.jpg', 'dance-i.jpg!PinterestLarge.jpg', 'catedral-1973.jpg!PinterestLarge.jpg']\n",
      "['yellow-painting-14-1995.jpg!PinterestLarge.jpg', 'canto-iii-1963.jpg!PinterestLarge.jpg', 'november-1963-iii-1963.jpg!PinterestLarge.jpg', 'untitled-sfe-020-lembark-i53-1984.jpg!PinterestLarge.jpg', 'medeanus.jpg!PinterestLarge.jpg', 'after-the-cloud.jpg!PinterestLarge.jpg', 'untitled-1960.jpg!PinterestLarge(3).jpg', 'robinson-s-wrap-1974.jpg!PinterestLarge.jpg', 'foley-1967.jpg!PinterestLarge.jpg', 'isis.jpg!PinterestLarge.jpg', '1.jpg!PinterestLarge.jpg', 'untitled-1971.jpg!PinterestLarge(1).jpg', 'leuchtrot-und-gelb-1965.jpg!PinterestLarge.jpg', 'peeping-wall-1960.jpg!PinterestLarge.jpg']\n",
      "['femme-1954.jpg!PinterestLarge.jpg', 'the-circus-1918.jpg!PinterestLarge.jpg', 'figure-blanche.jpg!PinterestLarge.jpg', 'figure-in-un-interno-1947.jpg!PinterestLarge.jpg', 'ang-magbabayo-pounding-rice-1979.jpg!PinterestLarge.jpg', 'militiaman-and-merchant-sketch-of-costumes-for-the-play-footballer.jpg!PinterestLarge.jpg', 'the-studio-ix-1954.jpg!PinterestLarge.jpg', 'soccer-field-1934.jpg!PinterestLarge.jpg', 'girl-untying-her-sandal-1973.jpg!PinterestLarge.jpg', 'nature-morte-1926.jpg!PinterestLarge.jpg', 'chorinho-1942.jpg!PinterestLarge.jpg', 'composition-cubiste-au-portrait-poisson-et-clair-de-lune-1926.jpg!PinterestLarge.jpg', 'futorismo-1927.jpg!PinterestLarge.jpg', 'house-manhufe-1913.jpg!PinterestLarge.jpg']\n",
      "['autumn-fog.jpg!PinterestLarge.jpg', 'the-tenth-street-studio-1915.jpg!PinterestLarge.jpg', 'vene-ia-santa-maria-della-salute-1931.jpg!PinterestLarge.jpg', 'november-in-nevada-1935.jpg!PinterestLarge.jpg', 'pavasaris-1930.jpg!PinterestLarge.jpg', 'marble-steps.jpg!PinterestLarge.jpg', 'riverman-1884.jpg!PinterestLarge.jpg', 'southern-france-beach.jpg!PinterestLarge.jpg', 'boulevard-montmartre-winter-morning-1897.jpg!PinterestLarge.jpg', 'anemones.jpg!PinterestLarge.jpg', 'young-woman-in-a-garden-cagnes-1905.jpg!PinterestLarge.jpg', 'london-st-paul-s-cathedral-1890.jpg!PinterestLarge.jpg', 'zimsko-jutro-1911.jpg!PinterestLarge.jpg', 'roceira-1930.jpg!PinterestLarge.jpg']\n",
      "['spiral-motif-in-white-black-and-indigo-1951.jpg!PinterestLarge.jpg', 'composition-1922-4.jpg!PinterestLarge.jpg', 'figuras-a-cinco-colores-1946.jpg!PinterestLarge.jpg', 'orange-1923.jpg!PinterestLarge.jpg', 'the-memory-of-the-apse-2007.jpg!PinterestLarge.jpg', 'movement-sea-ultramarine-and-green-sky-cerulean-and-grey-1947.jpg!PinterestLarge.jpg', 'john.jpg!PinterestLarge.jpg', 'paris-abstract.jpg!PinterestLarge.jpg', 'composizione-in-azzurro-1965.jpg!PinterestLarge.jpg', 'central-1986.jpg!PinterestLarge.jpg', 'wall-handball-study-1942.jpg!PinterestLarge.jpg', 'fire-flower-made-in-cooperation-with-galyna-zubchenko-and-victor-zaretsky-1960c.jpg!PinterestLarge.jpg', 'altar-painting-1915.jpg!PinterestLarge.jpg', 'the-sculptor-1923.jpg!PinterestLarge.jpg', 'nature-rhythms-1950.jpg!PinterestLarge.jpg']\n",
      "['1952-a-1952.jpg!PinterestLarge.jpg', 'sabra-iii-1967.jpg!PinterestLarge.jpg', 'mohawk-1970.jpg!PinterestLarge.jpg', 'disneyesque-1971.jpg!PinterestLarge.jpg', 'tom-s-furnace-1961.jpg!PinterestLarge.jpg', 'washington-d-c-december-1964-10-i-1964.jpg!PinterestLarge.jpg', 'study-ii-1981.jpg!PinterestLarge.jpg', 'evening-glow-1972.jpg!PinterestLarge.jpg', 'silvio-set-one-1963.jpg!PinterestLarge.jpg', 'loves-power-1982.jpg!PinterestLarge.jpg', 'infinity-field-lefkada-series-for-c-d-friedrich-1981.jpg!PinterestLarge.jpg', 'blue-and-yellow-and-red-orange-1965.jpg!PinterestLarge.jpg', 'cercles-de-nuit-1992.jpg!PinterestLarge.jpg', 'no-17-1961(1).jpg!PinterestLarge.jpg', 'amarillo-1971.jpg!PinterestLarge.jpg']\n",
      "['varanasi-iii-1973.jpg!PinterestLarge.jpg', 'woman-and-bird-1930.jpg!PinterestLarge.jpg', 'komposition-med-noter-1921.jpg!PinterestLarge.jpg', 'crimea-alupka-1916-1.jpg!PinterestLarge.jpg', 'deer-in-the-forest-1913.jpg!PinterestLarge.jpg', 'girl-portrait-1930.jpg!PinterestLarge.jpg', 'uknown.jpg!PinterestLarge.jpg', 'farm-woman-1908.jpg!PinterestLarge.jpg', 'figure-with-fruit-dish.jpg!PinterestLarge.jpg', 'portrait-of-the-artist.jpg!PinterestLarge.jpg', 'still-life-with-ephemeris-1914.jpg!PinterestLarge.jpg', 'pink-figure-wizard.jpg!PinterestLarge.jpg', 'landscape-of-falaise-1910.jpg!PinterestLarge.jpg', 'bull-study-1946.jpg!PinterestLarge.jpg', 'woman-with-mandolin-1925.jpg!PinterestLarge.jpg']\n",
      "['strand-in-trouville-1863.jpg!PinterestLarge.jpg', 'the-bathing-hour-1910.jpg!PinterestLarge.jpg', 'the-valley-of-the-scie-at-pouville.jpg!PinterestLarge.jpg', 'bridge-over-the-loire-1892.jpg!PinterestLarge.jpg', 'roses-fruit-wine-1912.jpg!PinterestLarge.jpg', 'woman-in-kimono-holding-a-japanese-fan-1.jpg!PinterestLarge.jpg', 'autumn-roadside.jpg!PinterestLarge.jpg', 'landscape-cassis-1931.jpg!PinterestLarge.jpg', 'havana.jpg!PinterestLarge.jpg', 'christ-in-the-garden-of-gethsemane-1901.jpg!PinterestLarge.jpg', 'south-boston-pier.jpg!PinterestLarge.jpg', 'garden-in-the-west-end-of-berlin-1925.jpg!PinterestLarge.jpg', 'autumn-in-the-bois-de-boulogne.jpg!PinterestLarge.jpg', 'place-de-la-madeleine-2.jpg!PinterestLarge.jpg', 'summer-1896.jpg!PinterestLarge.jpg']\n",
      "['composition-1922(4).jpg!PinterestLarge.jpg', 'abstract.jpg!PinterestLarge(1).jpg', 'unstable-compositions-1967.jpg!PinterestLarge.jpg', 'white-line-1936.jpg!PinterestLarge.jpg', 'presence-of-a-memory.jpg!PinterestLarge.jpg', 'not-detected-4.jpg!PinterestLarge.jpg', 'transparent-in-perspective-grooved-1921(1).jpg!PinterestLarge.jpg', 'the-last-judgment-1912.jpg!PinterestLarge.jpg', 'the-letter-scale-1923.jpg!PinterestLarge.jpg', 'duo-duel-1953.jpg!PinterestLarge.jpg', 'conversations-1958.jpg!PinterestLarge.jpg', 'spring-1907(1).jpg!PinterestLarge.jpg', 'not-detected-7.jpg!PinterestLarge.jpg', 'planos-de-color-con-dos-maderas-superpuestas-1928.jpg!PinterestLarge.jpg', 'unknown-title(18).jpg!PinterestLarge.jpg', 'the-yellow-curtain.jpg!PinterestLarge.jpg']\n",
      "['untitled-1969-2.jpg!PinterestLarge(1).jpg', 'lime-lemon-1970(1).jpg!PinterestLarge.jpg', 'no-6-yellow-white-blue-over-yellow-on-gray-1954.jpg!PinterestLarge.jpg', 'only-orange-1963.jpg!PinterestLarge.jpg', 'dawn-stroke-1977.jpg!PinterestLarge.jpg', 'yellow-abstract-1961.jpg!PinterestLarge.jpg', 'duo-1965.jpg!PinterestLarge.jpg', 'double-gray-scramble-1973.jpg!PinterestLarge.jpg', 'pink-flutter-1969.jpg!PinterestLarge.jpg', 'in-croce-iii-1969.jpg!PinterestLarge.jpg', 'galaxy-1949.jpg!PinterestLarge.jpg', 'janela-aberta-1998.jpg!PinterestLarge.jpg', 'appleby-2011.jpg!PinterestLarge.jpg', 'untitled-february-26-1964.jpg!PinterestLarge.jpg', 'canto-xiii-1964.jpg!PinterestLarge.jpg']\n",
      "['two-men-with-cockerel.jpg!PinterestLarge.jpg', 'sudak-the-valley-1917.jpg!PinterestLarge.jpg', 'still-life-on-the-dresser-1955.jpg!PinterestLarge.jpg', 'the-bird-cage.jpg!PinterestLarge.jpg', 'the-lamp-1919.jpg!PinterestLarge.jpg', 'the-wash-stand-1942.jpg!PinterestLarge.jpg', 'dazzle-ships-in-drydock-at-liverpool-1919(1).jpg!PinterestLarge.jpg', 'fallen-figure-1939.jpg!PinterestLarge.jpg', 'portrait-of-a-stylist-germinal-rangel.jpg!PinterestLarge.jpg', 'diavolii-stage-design.jpg!PinterestLarge.jpg', 'explosion-lyrique-no-c-1918.jpg!PinterestLarge.jpg', 'red-jew-1915.jpg!PinterestLarge.jpg', 'egg-beater-no-4-1928.jpg!PinterestLarge.jpg', 'illustration-for-carmen-1932.jpg!PinterestLarge.jpg']\n",
      "['the-lady-pianist.jpg!PinterestLarge.jpg', 'spring-morning-pontoise-1874.jpg!PinterestLarge.jpg', 'the-louvre-1902.jpg!PinterestLarge.jpg', 'strong-wind-gust-of-wind.jpg!PinterestLarge.jpg', 'mother-and-child-1900(1).jpg!PinterestLarge.jpg', 'amsterdam-in-the-snow(1).jpg!PinterestLarge.jpg', 'landscape-2.jpg!PinterestLarge(1).jpg', 'the-thaw-eragny-1893.jpg!PinterestLarge.jpg', 'belkino-birches-1907.jpg!PinterestLarge.jpg', 'two-women-on-the-hillside-1906.jpg!PinterestLarge.jpg', 'french-landscape-i-1877.jpg!PinterestLarge.jpg', 'the-cowherd.jpg!PinterestLarge.jpg', 'nasturtiums.jpg!PinterestLarge.jpg', 'summertime.jpg!PinterestLarge.jpg', 'valea-agapiei-1915.jpg!PinterestLarge.jpg']\n"
     ]
    }
   ],
   "source": [
    "allArtsAllVer = getStims()\n",
    "allArtsAllVer\n",
    "\n",
    "for eachVersion in range(len(allArtsAllVer)):\n",
    "    for style in range(4):\n",
    "        if style == 0:\n",
    "            print(allArtsAllVer[eachVersion][0])\n",
    "            #do something to allArtsAllVer[eachVersion][0] to make it like\n",
    "            #'{stimulus: \\\"img/' + \"abstract\" + '/' + file + '\\\"}, \\n'\n",
    "        elif style == 1:\n",
    "            print(allArtsAllVer[eachVersion][1])\n",
    "            #do something to allArtsAllVer[eachVersion][1 to make it like\n",
    "            #'{stimulus: \\\"img/' + \"colorFields\" + '/' + file + '\\\"}, \\n'\n",
    "        elif style == 2:\n",
    "            print(allArtsAllVer[eachVersion][2])\n",
    "            #do something to allArtsAllVer[eachVersion][2] to make it like\n",
    "            #'{stimulus: \\\"img/' + \"cubism\" + '/' + file + '\\\"}, \\n'\n",
    "        else:\n",
    "            print(allArtsAllVer[eachVersion][3])\n",
    "            #do something to allArtsAllVer[eachVersion][3] to make it like\n",
    "            #'{stimulus: \\\"img/' + \"impressionism\" + '/' + file + '\\\"}, \\n'\n",
    "            \n",
    "#     print(allArtsAllVer[eachVersion])\n",
    "\n",
    "\n",
    "# for eachVersion in range(len(allArtsAllVer)):\n",
    "#     numVersion = eachVersion + 1\n",
    "#     numStr = str(numVersion)\n",
    "#     file = open(\"v\" + numStr + \".txt\", \"w\")\n",
    "#     file.write(str(allArtsAllVer[eachVersion]))\n",
    "#     file.close"
   ]
  },
  {
   "cell_type": "markdown",
   "metadata": {},
   "source": [
    "## 5. Reopen the text file and write it to test_stimuli = [{stimulus: \"img/artStyle/*.jpg\"}, ...]"
   ]
  },
  {
   "cell_type": "code",
   "execution_count": null,
   "metadata": {
    "collapsed": true
   },
   "outputs": [],
   "source": [
    "for file in glob.glob(\"*.txt\"):\n",
    "    # print('{stimulus: \\\"img/' + dirName + '/' + file + '\\\"}, \\n')\n",
    "    file.read()\n",
    "    "
   ]
  }
 ],
 "metadata": {
  "kernelspec": {
   "display_name": "Python 3",
   "language": "python",
   "name": "python3"
  },
  "language_info": {
   "codemirror_mode": {
    "name": "ipython",
    "version": 3
   },
   "file_extension": ".py",
   "mimetype": "text/x-python",
   "name": "python",
   "nbconvert_exporter": "python",
   "pygments_lexer": "ipython3",
   "version": "3.6.2"
  }
 },
 "nbformat": 4,
 "nbformat_minor": 2
}
