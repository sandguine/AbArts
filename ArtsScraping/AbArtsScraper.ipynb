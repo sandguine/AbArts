{
 "cells": [
  {
   "cell_type": "markdown",
   "metadata": {},
   "source": [
    "# Hello friends, here is my arts database for Abstract Value-based DM project\n",
    "\n",
    "I'm going to be using Beautifulsoup to scrape the arts pictures. So first, we need to import all packages needed."
   ]
  },
  {
   "cell_type": "code",
   "execution_count": 89,
   "metadata": {},
   "outputs": [],
   "source": [
    "import requests\n",
    "from bs4 import BeautifulSoup\n",
    "import os\n",
    "import urllib\n",
    "import json\n",
    "import re\n",
    "import time\n",
    " \n",
    "r = requests.get(\"https://www.wikiart.org/en/Search/abstract\")\n",
    "data = r.text\n",
    "soup = BeautifulSoup(data, 'html.parser')\n",
    "\n",
    "# print(soup.prettify()) for pattern speculation"
   ]
  },
  {
   "cell_type": "markdown",
   "metadata": {},
   "source": [
    "Upon speculating the site, it seems like the links of pictures were stored in JSON format. Then we need to translate JSON and grap only \"image\" tag. Or simply look for another pattern and grap the urls of pictures using RegX."
   ]
  },
  {
   "cell_type": "code",
   "execution_count": 96,
   "metadata": {},
   "outputs": [],
   "source": [
    "links = soup.find_all('script', type=\"text/plain\")\n",
    "string = str(links)\n",
    "pattern = 'https?://(?:[a-zA-Z]|[0-9]|[$-_@.&+]|[!*\\(\\),]|(?:%[0-9a-fA-F][0-9a-fA-F]))+.jpg'\n",
    "results = re.findall(pattern, string)"
   ]
  },
  {
   "cell_type": "markdown",
   "metadata": {},
   "source": [
    "Well now, I got the urls in a list format. Let's download them all!!"
   ]
  },
  {
   "cell_type": "code",
   "execution_count": 95,
   "metadata": {},
   "outputs": [],
   "source": [
    "for result in results:\n",
    "    timestamp = time.asctime() \n",
    "    txt = open('%s.jpg' % timestamp, \"wb\")\n",
    "    #link = result[\"src\"].split(\"src=\")[-1]\n",
    "    download_img = urllib.request.urlopen(result)\n",
    "    txt.write(download_img.read())\n",
    "\n",
    "    txt.close()"
   ]
  },
  {
   "cell_type": "markdown",
   "metadata": {
    "collapsed": true
   },
   "source": [
    "# TADA!!!"
   ]
  }
 ],
 "metadata": {
  "kernelspec": {
   "display_name": "Python 3",
   "language": "python",
   "name": "python3"
  },
  "language_info": {
   "codemirror_mode": {
    "name": "ipython",
    "version": 3
   },
   "file_extension": ".py",
   "mimetype": "text/x-python",
   "name": "python",
   "nbconvert_exporter": "python",
   "pygments_lexer": "ipython3",
   "version": "3.6.2"
  }
 },
 "nbformat": 4,
 "nbformat_minor": 2
}
