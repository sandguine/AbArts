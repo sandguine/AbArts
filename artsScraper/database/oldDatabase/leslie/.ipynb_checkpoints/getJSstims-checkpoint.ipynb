{
 "cells": [
  {
   "cell_type": "markdown",
   "metadata": {},
   "source": [
    "# Get stimuli ready for jsPsych 'artSurvey.html'\n",
    "#### Author: Sandy Tanwisuth\n",
    "#### Date: March, 29th 2018\n",
    "\n",
    "# Here are some thought-processes behind this code.\n",
    "\n",
    "After we have obtained the artworks, we want to get the stimuli ready for the task. In total, we have four art styles used including: \"Abstract Art\", \"Color Fields Paintings\", \"Cubism\", and \"Impressionism\". The breakdown of artworks per categories are as follows: abstract-214, colorFields-205, cubism-206, and impressionism-205. These artworks were obtained from WikiArt.org search arts by style. When looking at our artSurvey.html, you will see that each trial take around 5 seconds to complete (2 seconds for stimuli presentation, and 3 seconds for response period). We ask two questions per artworks; therby, we need 10 seconds per picture. Since mTurk task should take around 10 minutes aka 600 seconds to complete, we should have around 60 pictures per task. We then divide the task into 14 versions of around 15 pictures per category per task.\n",
    "\n",
    "## 1. Import all required packages."
   ]
  },
  {
   "cell_type": "code",
   "execution_count": 1,
   "metadata": {
    "collapsed": true
   },
   "outputs": [],
   "source": [
    "import glob, os, random, itertools, re\n",
    "import numpy as np"
   ]
  },
  {
   "cell_type": "markdown",
   "metadata": {},
   "source": [
    "## 2. Define important functions that will be reuse later on.\n",
    "\n",
    "This block contains two functions define for later usage which are \"getArtsNames\", and \"chunk\" respectively. The first one can be used to obtain an array of all \"*.jpg\" extension file names in the sub-directory input. The second is a function to chunk the artworks array into approximately equals number of pictures."
   ]
  },
  {
   "cell_type": "code",
   "execution_count": 2,
   "metadata": {
    "collapsed": true
   },
   "outputs": [],
   "source": [
    "def getArtsNames(dirName):\n",
    "    cwd = os.getcwd()\n",
    "    os.chdir(dirName)\n",
    "    artsWildCard = os.listdir()\n",
    "    artList = []\n",
    "    for file in glob.glob(\"*.bmp\"):\n",
    "        # print('{stimulus: \\\"img/' + dirName + '/' + file + '\\\"}, \\n')\n",
    "        artList.append(file)\n",
    "    os.chdir(\"..\")\n",
    "    return artList\n",
    "\n",
    "def chunk(seq, num):\n",
    "    avg = len(seq) / float(num)\n",
    "    out = []\n",
    "    last = 0.0\n",
    "    while last < len(seq):\n",
    "        out.append(seq[int(last):int(last + avg)])\n",
    "        last += avg\n",
    "    return out"
   ]
  },
  {
   "cell_type": "markdown",
   "metadata": {
    "collapsed": true
   },
   "source": [
    "## 3. Define main function to get all artworks.\n",
    "This function get all the artworks and split it into different versions."
   ]
  },
  {
   "cell_type": "code",
   "execution_count": 3,
   "metadata": {
    "collapsed": true
   },
   "outputs": [],
   "source": [
    "numChunks = 14\n",
    "\n",
    "def getStims():\n",
    "    allStims = []\n",
    "    allVersions = [[] for i in range(14)]\n",
    "    allArts = [\"abstract\", \"colorFields\", \"cubism\", \"impressionism\"]\n",
    "    \n",
    "    for artStyle in allArts:\n",
    "        artList = getArtsNames(artStyle)\n",
    "        artList = random.sample(artList, len(artList))\n",
    "        artChunk = chunk(artList, numChunks)\n",
    "        allStims.append(artChunk)\n",
    "        \n",
    "        for version in range(len(allVersions)):\n",
    "            allVersions[version].append(artChunk[version])\n",
    "            version += 1\n",
    "    \n",
    "    return allVersions"
   ]
  },
  {
   "cell_type": "markdown",
   "metadata": {},
   "source": [
    "# WARNING: DO NOT RE-RUN THIS BLOCK UNLESS NECESSARY!!!\n",
    "## 4. Call main function and write each version to file. \n",
    "The main function is being called to get all artwork in all version. Then, we write each version into JavaScript file."
   ]
  },
  {
   "cell_type": "code",
   "execution_count": 8,
   "metadata": {
    "collapsed": true
   },
   "outputs": [],
   "source": [
    "allArtsAllVer = getStims()\n",
    "beginStr = ' \\'|\\[\\''\n",
    "endStr = '\\',|\\']'\n",
    "endReplace = '\\\"}, '\n",
    "\n",
    "for eachVersion in range(len(allArtsAllVer)):\n",
    "    for style in range(4):\n",
    "        if style == 0:\n",
    "            abstractStr = str(allArtsAllVer[eachVersion][0])\n",
    "            abstractStr = re.sub(beginStr, '{stimulus: \\\"img/abstract/', abstractStr)\n",
    "            abstractStr = re.sub(endStr, endReplace, abstractStr)\n",
    "            #print(abstractStr)\n",
    "        elif style == 1:\n",
    "            #print(allArtsAllVer[eachVersion][1])\n",
    "            colorFieldsStr = str(allArtsAllVer[eachVersion][1])\n",
    "            colorFieldsStr = re.sub(beginStr, '{stimulus: \\\"img/colorFields/', colorFieldsStr)\n",
    "            colorFieldsStr = re.sub(endStr, endReplace, colorFieldsStr)\n",
    "            #print(colorFieldsStr)\n",
    "        elif style == 2:\n",
    "            #print(allArtsAllVer[eachVersion][2])\n",
    "            cubismStr = str(allArtsAllVer[eachVersion][2])\n",
    "            cubismStr = re.sub(beginStr, '{stimulus: \\\"img/cubism/', cubismStr)\n",
    "            cubismStr = re.sub(endStr, endReplace, cubismStr)\n",
    "            #print(cubismStr)\n",
    "        else:\n",
    "            #print(allArtsAllVer[eachVersion][3])\n",
    "            impressionismStr = str(allArtsAllVer[eachVersion][3])\n",
    "            impressionismStr = re.sub(beginStr, '{stimulus: \\\"img/impressionism/', impressionismStr)\n",
    "            impressionismStr = re.sub(endStr, endReplace, impressionismStr)\n",
    "            #print(impressionismStr)\n",
    "        \n",
    "    toWrite = 'test_stimuli = [' + abstractStr \n",
    "    toWrite = toWrite + colorFieldsStr \n",
    "    toWrite = toWrite + cubismStr \n",
    "    toWrite = toWrite + impressionismStr\n",
    "    toWrite = toWrite[:-2]\n",
    "    toWrite = toWrite + ']'\n",
    "    \n",
    "    numVersion = eachVersion + 1\n",
    "    numStr = str(numVersion)\n",
    "    file = open(\"v\" + numStr + \".js\", \"w\")\n",
    "    file.write(toWrite)\n",
    "    file.close"
   ]
  },
  {
   "cell_type": "markdown",
   "metadata": {},
   "source": [
    "## 5. Voíla!"
   ]
  }
 ],
 "metadata": {
  "kernelspec": {
   "display_name": "Python 3",
   "language": "python",
   "name": "python3"
  },
  "language_info": {
   "codemirror_mode": {
    "name": "ipython",
    "version": 3
   },
   "file_extension": ".py",
   "mimetype": "text/x-python",
   "name": "python",
   "nbconvert_exporter": "python",
   "pygments_lexer": "ipython3",
   "version": "3.6.5"
  }
 },
 "nbformat": 4,
 "nbformat_minor": 2
}
